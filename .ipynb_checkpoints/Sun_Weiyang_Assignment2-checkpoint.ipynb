{
 "cells": [
  {
   "cell_type": "markdown",
   "metadata": {},
   "source": [
    "## GitHub Link: https://github.com/WeiyangSun/Practice/blob/master/Sun_Weiyang_Assignment2.ipynb"
   ]
  },
  {
   "cell_type": "code",
   "execution_count": 1,
   "metadata": {
    "collapsed": true
   },
   "outputs": [],
   "source": [
    "import pandas as pd"
   ]
  },
  {
   "cell_type": "code",
   "execution_count": 2,
   "metadata": {
    "collapsed": true
   },
   "outputs": [],
   "source": [
    "pd.set_option('display.width', 4000)\n",
    "pd.set_option('max_colwidth', 4000)\n",
    "pd.set_option('max_columns', 200)\n",
    "pd.set_option('max_rows', 200)"
   ]
  },
  {
   "cell_type": "markdown",
   "metadata": {},
   "source": [
    "### 1) Load in the appropriate CSV file as a pandas dataframe"
   ]
  },
  {
   "cell_type": "code",
   "execution_count": 3,
   "metadata": {
    "collapsed": true
   },
   "outputs": [],
   "source": [
    "dataset = pd.read_csv('Batting (1).csv')"
   ]
  },
  {
   "cell_type": "code",
   "execution_count": 4,
   "metadata": {},
   "outputs": [
    {
     "data": {
      "text/html": [
       "<div>\n",
       "<style>\n",
       "    .dataframe thead tr:only-child th {\n",
       "        text-align: right;\n",
       "    }\n",
       "\n",
       "    .dataframe thead th {\n",
       "        text-align: left;\n",
       "    }\n",
       "\n",
       "    .dataframe tbody tr th {\n",
       "        vertical-align: top;\n",
       "    }\n",
       "</style>\n",
       "<table border=\"1\" class=\"dataframe\">\n",
       "  <thead>\n",
       "    <tr style=\"text-align: right;\">\n",
       "      <th></th>\n",
       "      <th>playerID</th>\n",
       "      <th>nameFirst</th>\n",
       "      <th>nameLast</th>\n",
       "      <th>birthYear</th>\n",
       "      <th>yearID</th>\n",
       "      <th>stint</th>\n",
       "      <th>teamID</th>\n",
       "      <th>lgID</th>\n",
       "      <th>G</th>\n",
       "      <th>AB</th>\n",
       "      <th>R</th>\n",
       "      <th>H</th>\n",
       "      <th>2B</th>\n",
       "      <th>3B</th>\n",
       "      <th>HR</th>\n",
       "      <th>RBI</th>\n",
       "      <th>SB</th>\n",
       "      <th>CS</th>\n",
       "      <th>BB</th>\n",
       "      <th>SO</th>\n",
       "      <th>IBB</th>\n",
       "      <th>HBP</th>\n",
       "      <th>SH</th>\n",
       "      <th>SF</th>\n",
       "      <th>GIDP</th>\n",
       "    </tr>\n",
       "  </thead>\n",
       "  <tbody>\n",
       "    <tr>\n",
       "      <th>0</th>\n",
       "      <td>abercda01</td>\n",
       "      <td>Frank</td>\n",
       "      <td>Abercrombie</td>\n",
       "      <td>1850</td>\n",
       "      <td>1871</td>\n",
       "      <td>1</td>\n",
       "      <td>TRO</td>\n",
       "      <td>NaN</td>\n",
       "      <td>1</td>\n",
       "      <td>4</td>\n",
       "      <td>0</td>\n",
       "      <td>0</td>\n",
       "      <td>0</td>\n",
       "      <td>0</td>\n",
       "      <td>0</td>\n",
       "      <td>0.0</td>\n",
       "      <td>0.0</td>\n",
       "      <td>0.0</td>\n",
       "      <td>0</td>\n",
       "      <td>0.0</td>\n",
       "      <td>NaN</td>\n",
       "      <td>NaN</td>\n",
       "      <td>NaN</td>\n",
       "      <td>NaN</td>\n",
       "      <td>NaN</td>\n",
       "    </tr>\n",
       "    <tr>\n",
       "      <th>1</th>\n",
       "      <td>addybo01</td>\n",
       "      <td>Bob</td>\n",
       "      <td>Addy</td>\n",
       "      <td>1842</td>\n",
       "      <td>1871</td>\n",
       "      <td>1</td>\n",
       "      <td>RC1</td>\n",
       "      <td>NaN</td>\n",
       "      <td>25</td>\n",
       "      <td>118</td>\n",
       "      <td>30</td>\n",
       "      <td>32</td>\n",
       "      <td>6</td>\n",
       "      <td>0</td>\n",
       "      <td>0</td>\n",
       "      <td>13.0</td>\n",
       "      <td>8.0</td>\n",
       "      <td>1.0</td>\n",
       "      <td>4</td>\n",
       "      <td>0.0</td>\n",
       "      <td>NaN</td>\n",
       "      <td>NaN</td>\n",
       "      <td>NaN</td>\n",
       "      <td>NaN</td>\n",
       "      <td>NaN</td>\n",
       "    </tr>\n",
       "    <tr>\n",
       "      <th>2</th>\n",
       "      <td>allisar01</td>\n",
       "      <td>Art</td>\n",
       "      <td>Allison</td>\n",
       "      <td>1849</td>\n",
       "      <td>1871</td>\n",
       "      <td>1</td>\n",
       "      <td>CL1</td>\n",
       "      <td>NaN</td>\n",
       "      <td>29</td>\n",
       "      <td>137</td>\n",
       "      <td>28</td>\n",
       "      <td>40</td>\n",
       "      <td>4</td>\n",
       "      <td>5</td>\n",
       "      <td>0</td>\n",
       "      <td>19.0</td>\n",
       "      <td>3.0</td>\n",
       "      <td>1.0</td>\n",
       "      <td>2</td>\n",
       "      <td>5.0</td>\n",
       "      <td>NaN</td>\n",
       "      <td>NaN</td>\n",
       "      <td>NaN</td>\n",
       "      <td>NaN</td>\n",
       "      <td>NaN</td>\n",
       "    </tr>\n",
       "    <tr>\n",
       "      <th>3</th>\n",
       "      <td>allisdo01</td>\n",
       "      <td>Doug</td>\n",
       "      <td>Allison</td>\n",
       "      <td>1846</td>\n",
       "      <td>1871</td>\n",
       "      <td>1</td>\n",
       "      <td>WS3</td>\n",
       "      <td>NaN</td>\n",
       "      <td>27</td>\n",
       "      <td>133</td>\n",
       "      <td>28</td>\n",
       "      <td>44</td>\n",
       "      <td>10</td>\n",
       "      <td>2</td>\n",
       "      <td>2</td>\n",
       "      <td>27.0</td>\n",
       "      <td>1.0</td>\n",
       "      <td>1.0</td>\n",
       "      <td>0</td>\n",
       "      <td>2.0</td>\n",
       "      <td>NaN</td>\n",
       "      <td>NaN</td>\n",
       "      <td>NaN</td>\n",
       "      <td>NaN</td>\n",
       "      <td>NaN</td>\n",
       "    </tr>\n",
       "    <tr>\n",
       "      <th>4</th>\n",
       "      <td>ansonca01</td>\n",
       "      <td>Cap</td>\n",
       "      <td>Anson</td>\n",
       "      <td>1852</td>\n",
       "      <td>1871</td>\n",
       "      <td>1</td>\n",
       "      <td>RC1</td>\n",
       "      <td>NaN</td>\n",
       "      <td>25</td>\n",
       "      <td>120</td>\n",
       "      <td>29</td>\n",
       "      <td>39</td>\n",
       "      <td>11</td>\n",
       "      <td>3</td>\n",
       "      <td>0</td>\n",
       "      <td>16.0</td>\n",
       "      <td>6.0</td>\n",
       "      <td>2.0</td>\n",
       "      <td>2</td>\n",
       "      <td>1.0</td>\n",
       "      <td>NaN</td>\n",
       "      <td>NaN</td>\n",
       "      <td>NaN</td>\n",
       "      <td>NaN</td>\n",
       "      <td>NaN</td>\n",
       "    </tr>\n",
       "  </tbody>\n",
       "</table>\n",
       "</div>"
      ],
      "text/plain": [
       "    playerID nameFirst     nameLast  birthYear  yearID  stint teamID lgID   G   AB   R   H  2B  3B  HR   RBI   SB   CS  BB   SO  IBB  HBP  SH  SF  GIDP\n",
       "0  abercda01     Frank  Abercrombie       1850    1871      1    TRO  NaN   1    4   0   0   0   0   0   0.0  0.0  0.0   0  0.0  NaN  NaN NaN NaN   NaN\n",
       "1   addybo01       Bob         Addy       1842    1871      1    RC1  NaN  25  118  30  32   6   0   0  13.0  8.0  1.0   4  0.0  NaN  NaN NaN NaN   NaN\n",
       "2  allisar01       Art      Allison       1849    1871      1    CL1  NaN  29  137  28  40   4   5   0  19.0  3.0  1.0   2  5.0  NaN  NaN NaN NaN   NaN\n",
       "3  allisdo01      Doug      Allison       1846    1871      1    WS3  NaN  27  133  28  44  10   2   2  27.0  1.0  1.0   0  2.0  NaN  NaN NaN NaN   NaN\n",
       "4  ansonca01       Cap        Anson       1852    1871      1    RC1  NaN  25  120  29  39  11   3   0  16.0  6.0  2.0   2  1.0  NaN  NaN NaN NaN   NaN"
      ]
     },
     "execution_count": 4,
     "metadata": {},
     "output_type": "execute_result"
    }
   ],
   "source": [
    "dataset.head()"
   ]
  },
  {
   "cell_type": "markdown",
   "metadata": {},
   "source": [
    "### 2) Print out the dimensions and info about the dataframe just created"
   ]
  },
  {
   "cell_type": "markdown",
   "metadata": {},
   "source": [
    "#### Information about DataFrame"
   ]
  },
  {
   "cell_type": "code",
   "execution_count": 5,
   "metadata": {},
   "outputs": [
    {
     "data": {
      "text/html": [
       "<div>\n",
       "<style>\n",
       "    .dataframe thead tr:only-child th {\n",
       "        text-align: right;\n",
       "    }\n",
       "\n",
       "    .dataframe thead th {\n",
       "        text-align: left;\n",
       "    }\n",
       "\n",
       "    .dataframe tbody tr th {\n",
       "        vertical-align: top;\n",
       "    }\n",
       "</style>\n",
       "<table border=\"1\" class=\"dataframe\">\n",
       "  <thead>\n",
       "    <tr style=\"text-align: right;\">\n",
       "      <th></th>\n",
       "      <th>birthYear</th>\n",
       "      <th>yearID</th>\n",
       "      <th>stint</th>\n",
       "      <th>G</th>\n",
       "      <th>AB</th>\n",
       "      <th>R</th>\n",
       "      <th>H</th>\n",
       "      <th>2B</th>\n",
       "      <th>3B</th>\n",
       "      <th>HR</th>\n",
       "      <th>RBI</th>\n",
       "      <th>SB</th>\n",
       "      <th>CS</th>\n",
       "      <th>BB</th>\n",
       "      <th>SO</th>\n",
       "      <th>IBB</th>\n",
       "      <th>HBP</th>\n",
       "      <th>SH</th>\n",
       "      <th>SF</th>\n",
       "      <th>GIDP</th>\n",
       "    </tr>\n",
       "  </thead>\n",
       "  <tbody>\n",
       "    <tr>\n",
       "      <th>count</th>\n",
       "      <td>102816.000000</td>\n",
       "      <td>102816.000000</td>\n",
       "      <td>102816.000000</td>\n",
       "      <td>102816.000000</td>\n",
       "      <td>102816.000000</td>\n",
       "      <td>102816.000000</td>\n",
       "      <td>102816.000000</td>\n",
       "      <td>102816.000000</td>\n",
       "      <td>102816.000000</td>\n",
       "      <td>102816.000000</td>\n",
       "      <td>102392.000000</td>\n",
       "      <td>101516.000000</td>\n",
       "      <td>79360.000000</td>\n",
       "      <td>102816.000000</td>\n",
       "      <td>94978.000000</td>\n",
       "      <td>66251.000000</td>\n",
       "      <td>100006.000000</td>\n",
       "      <td>96478.000000</td>\n",
       "      <td>66782.000000</td>\n",
       "      <td>76706.000000</td>\n",
       "    </tr>\n",
       "    <tr>\n",
       "      <th>mean</th>\n",
       "      <td>1932.991869</td>\n",
       "      <td>1964.262313</td>\n",
       "      <td>1.077838</td>\n",
       "      <td>51.343439</td>\n",
       "      <td>141.905511</td>\n",
       "      <td>18.815544</td>\n",
       "      <td>37.139930</td>\n",
       "      <td>6.289167</td>\n",
       "      <td>1.293252</td>\n",
       "      <td>2.813599</td>\n",
       "      <td>17.003975</td>\n",
       "      <td>2.976821</td>\n",
       "      <td>1.226008</td>\n",
       "      <td>13.067207</td>\n",
       "      <td>20.529712</td>\n",
       "      <td>1.105870</td>\n",
       "      <td>1.056057</td>\n",
       "      <td>2.299540</td>\n",
       "      <td>1.054101</td>\n",
       "      <td>2.981018</td>\n",
       "    </tr>\n",
       "    <tr>\n",
       "      <th>std</th>\n",
       "      <td>87.105524</td>\n",
       "      <td>38.856297</td>\n",
       "      <td>0.284366</td>\n",
       "      <td>47.121658</td>\n",
       "      <td>184.654492</td>\n",
       "      <td>28.242983</td>\n",
       "      <td>52.603757</td>\n",
       "      <td>9.662468</td>\n",
       "      <td>2.645770</td>\n",
       "      <td>6.304919</td>\n",
       "      <td>26.352011</td>\n",
       "      <td>7.717174</td>\n",
       "      <td>2.747377</td>\n",
       "      <td>20.746460</td>\n",
       "      <td>28.328542</td>\n",
       "      <td>2.780187</td>\n",
       "      <td>2.276251</td>\n",
       "      <td>4.241095</td>\n",
       "      <td>1.961732</td>\n",
       "      <td>4.735153</td>\n",
       "    </tr>\n",
       "    <tr>\n",
       "      <th>min</th>\n",
       "      <td>0.000000</td>\n",
       "      <td>1871.000000</td>\n",
       "      <td>1.000000</td>\n",
       "      <td>1.000000</td>\n",
       "      <td>0.000000</td>\n",
       "      <td>0.000000</td>\n",
       "      <td>0.000000</td>\n",
       "      <td>0.000000</td>\n",
       "      <td>0.000000</td>\n",
       "      <td>0.000000</td>\n",
       "      <td>0.000000</td>\n",
       "      <td>0.000000</td>\n",
       "      <td>0.000000</td>\n",
       "      <td>0.000000</td>\n",
       "      <td>0.000000</td>\n",
       "      <td>0.000000</td>\n",
       "      <td>0.000000</td>\n",
       "      <td>0.000000</td>\n",
       "      <td>0.000000</td>\n",
       "      <td>0.000000</td>\n",
       "    </tr>\n",
       "    <tr>\n",
       "      <th>25%</th>\n",
       "      <td>1905.000000</td>\n",
       "      <td>1934.000000</td>\n",
       "      <td>1.000000</td>\n",
       "      <td>13.000000</td>\n",
       "      <td>4.000000</td>\n",
       "      <td>0.000000</td>\n",
       "      <td>0.000000</td>\n",
       "      <td>0.000000</td>\n",
       "      <td>0.000000</td>\n",
       "      <td>0.000000</td>\n",
       "      <td>0.000000</td>\n",
       "      <td>0.000000</td>\n",
       "      <td>0.000000</td>\n",
       "      <td>0.000000</td>\n",
       "      <td>1.000000</td>\n",
       "      <td>0.000000</td>\n",
       "      <td>0.000000</td>\n",
       "      <td>0.000000</td>\n",
       "      <td>0.000000</td>\n",
       "      <td>0.000000</td>\n",
       "    </tr>\n",
       "    <tr>\n",
       "      <th>50%</th>\n",
       "      <td>1945.000000</td>\n",
       "      <td>1973.000000</td>\n",
       "      <td>1.000000</td>\n",
       "      <td>34.000000</td>\n",
       "      <td>49.000000</td>\n",
       "      <td>4.000000</td>\n",
       "      <td>9.000000</td>\n",
       "      <td>1.000000</td>\n",
       "      <td>0.000000</td>\n",
       "      <td>0.000000</td>\n",
       "      <td>3.000000</td>\n",
       "      <td>0.000000</td>\n",
       "      <td>0.000000</td>\n",
       "      <td>3.000000</td>\n",
       "      <td>9.000000</td>\n",
       "      <td>0.000000</td>\n",
       "      <td>0.000000</td>\n",
       "      <td>0.000000</td>\n",
       "      <td>0.000000</td>\n",
       "      <td>0.000000</td>\n",
       "    </tr>\n",
       "    <tr>\n",
       "      <th>75%</th>\n",
       "      <td>1969.000000</td>\n",
       "      <td>1998.000000</td>\n",
       "      <td>1.000000</td>\n",
       "      <td>80.000000</td>\n",
       "      <td>231.000000</td>\n",
       "      <td>27.000000</td>\n",
       "      <td>58.000000</td>\n",
       "      <td>9.000000</td>\n",
       "      <td>1.000000</td>\n",
       "      <td>2.000000</td>\n",
       "      <td>24.000000</td>\n",
       "      <td>2.000000</td>\n",
       "      <td>1.000000</td>\n",
       "      <td>18.000000</td>\n",
       "      <td>29.000000</td>\n",
       "      <td>1.000000</td>\n",
       "      <td>1.000000</td>\n",
       "      <td>3.000000</td>\n",
       "      <td>1.000000</td>\n",
       "      <td>4.000000</td>\n",
       "    </tr>\n",
       "    <tr>\n",
       "      <th>max</th>\n",
       "      <td>1996.000000</td>\n",
       "      <td>2016.000000</td>\n",
       "      <td>5.000000</td>\n",
       "      <td>165.000000</td>\n",
       "      <td>716.000000</td>\n",
       "      <td>192.000000</td>\n",
       "      <td>262.000000</td>\n",
       "      <td>67.000000</td>\n",
       "      <td>36.000000</td>\n",
       "      <td>73.000000</td>\n",
       "      <td>191.000000</td>\n",
       "      <td>138.000000</td>\n",
       "      <td>42.000000</td>\n",
       "      <td>232.000000</td>\n",
       "      <td>223.000000</td>\n",
       "      <td>120.000000</td>\n",
       "      <td>51.000000</td>\n",
       "      <td>67.000000</td>\n",
       "      <td>19.000000</td>\n",
       "      <td>36.000000</td>\n",
       "    </tr>\n",
       "  </tbody>\n",
       "</table>\n",
       "</div>"
      ],
      "text/plain": [
       "           birthYear         yearID          stint              G             AB              R              H             2B             3B             HR            RBI             SB            CS             BB            SO           IBB            HBP            SH            SF          GIDP\n",
       "count  102816.000000  102816.000000  102816.000000  102816.000000  102816.000000  102816.000000  102816.000000  102816.000000  102816.000000  102816.000000  102392.000000  101516.000000  79360.000000  102816.000000  94978.000000  66251.000000  100006.000000  96478.000000  66782.000000  76706.000000\n",
       "mean     1932.991869    1964.262313       1.077838      51.343439     141.905511      18.815544      37.139930       6.289167       1.293252       2.813599      17.003975       2.976821      1.226008      13.067207     20.529712      1.105870       1.056057      2.299540      1.054101      2.981018\n",
       "std        87.105524      38.856297       0.284366      47.121658     184.654492      28.242983      52.603757       9.662468       2.645770       6.304919      26.352011       7.717174      2.747377      20.746460     28.328542      2.780187       2.276251      4.241095      1.961732      4.735153\n",
       "min         0.000000    1871.000000       1.000000       1.000000       0.000000       0.000000       0.000000       0.000000       0.000000       0.000000       0.000000       0.000000      0.000000       0.000000      0.000000      0.000000       0.000000      0.000000      0.000000      0.000000\n",
       "25%      1905.000000    1934.000000       1.000000      13.000000       4.000000       0.000000       0.000000       0.000000       0.000000       0.000000       0.000000       0.000000      0.000000       0.000000      1.000000      0.000000       0.000000      0.000000      0.000000      0.000000\n",
       "50%      1945.000000    1973.000000       1.000000      34.000000      49.000000       4.000000       9.000000       1.000000       0.000000       0.000000       3.000000       0.000000      0.000000       3.000000      9.000000      0.000000       0.000000      0.000000      0.000000      0.000000\n",
       "75%      1969.000000    1998.000000       1.000000      80.000000     231.000000      27.000000      58.000000       9.000000       1.000000       2.000000      24.000000       2.000000      1.000000      18.000000     29.000000      1.000000       1.000000      3.000000      1.000000      4.000000\n",
       "max      1996.000000    2016.000000       5.000000     165.000000     716.000000     192.000000     262.000000      67.000000      36.000000      73.000000     191.000000     138.000000     42.000000     232.000000    223.000000    120.000000      51.000000     67.000000     19.000000     36.000000"
      ]
     },
     "execution_count": 5,
     "metadata": {},
     "output_type": "execute_result"
    }
   ],
   "source": [
    "dataset.describe()"
   ]
  },
  {
   "cell_type": "code",
   "execution_count": 6,
   "metadata": {},
   "outputs": [
    {
     "data": {
      "text/plain": [
       "playerID      object\n",
       "nameFirst     object\n",
       "nameLast      object\n",
       "birthYear      int64\n",
       "yearID         int64\n",
       "stint          int64\n",
       "teamID        object\n",
       "lgID          object\n",
       "G              int64\n",
       "AB             int64\n",
       "R              int64\n",
       "H              int64\n",
       "2B             int64\n",
       "3B             int64\n",
       "HR             int64\n",
       "RBI          float64\n",
       "SB           float64\n",
       "CS           float64\n",
       "BB             int64\n",
       "SO           float64\n",
       "IBB          float64\n",
       "HBP          float64\n",
       "SH           float64\n",
       "SF           float64\n",
       "GIDP         float64\n",
       "dtype: object"
      ]
     },
     "execution_count": 6,
     "metadata": {},
     "output_type": "execute_result"
    }
   ],
   "source": [
    "dataset.dtypes"
   ]
  },
  {
   "cell_type": "code",
   "execution_count": 7,
   "metadata": {},
   "outputs": [
    {
     "name": "stdout",
     "output_type": "stream",
     "text": [
      "<class 'pandas.core.frame.DataFrame'>\n",
      "RangeIndex: 102816 entries, 0 to 102815\n",
      "Data columns (total 25 columns):\n",
      "playerID     102816 non-null object\n",
      "nameFirst    102816 non-null object\n",
      "nameLast     102816 non-null object\n",
      "birthYear    102816 non-null int64\n",
      "yearID       102816 non-null int64\n",
      "stint        102816 non-null int64\n",
      "teamID       102816 non-null object\n",
      "lgID         102079 non-null object\n",
      "G            102816 non-null int64\n",
      "AB           102816 non-null int64\n",
      "R            102816 non-null int64\n",
      "H            102816 non-null int64\n",
      "2B           102816 non-null int64\n",
      "3B           102816 non-null int64\n",
      "HR           102816 non-null int64\n",
      "RBI          102392 non-null float64\n",
      "SB           101516 non-null float64\n",
      "CS           79360 non-null float64\n",
      "BB           102816 non-null int64\n",
      "SO           94978 non-null float64\n",
      "IBB          66251 non-null float64\n",
      "HBP          100006 non-null float64\n",
      "SH           96478 non-null float64\n",
      "SF           66782 non-null float64\n",
      "GIDP         76706 non-null float64\n",
      "dtypes: float64(9), int64(11), object(5)\n",
      "memory usage: 19.6+ MB\n"
     ]
    }
   ],
   "source": [
    "dataset.info()"
   ]
  },
  {
   "cell_type": "markdown",
   "metadata": {},
   "source": [
    "#### Dimension of dataset"
   ]
  },
  {
   "cell_type": "code",
   "execution_count": 8,
   "metadata": {},
   "outputs": [
    {
     "data": {
      "text/plain": [
       "(102816, 25)"
      ]
     },
     "execution_count": 8,
     "metadata": {},
     "output_type": "execute_result"
    }
   ],
   "source": [
    "dataset.shape"
   ]
  },
  {
   "cell_type": "markdown",
   "metadata": {},
   "source": [
    "### 3) How many players have hit 40 or more HRs in one single season?"
   ]
  },
  {
   "cell_type": "code",
   "execution_count": 9,
   "metadata": {
    "collapsed": true
   },
   "outputs": [],
   "source": [
    "result = pd.DataFrame(dataset.groupby(['playerID', 'yearID'])['HR'].agg('sum'))"
   ]
  },
  {
   "cell_type": "code",
   "execution_count": 10,
   "metadata": {},
   "outputs": [
    {
     "data": {
      "text/plain": [
       "330"
      ]
     },
     "execution_count": 10,
     "metadata": {},
     "output_type": "execute_result"
    }
   ],
   "source": [
    "result[result['HR'] >= 40].shape[0]"
   ]
  },
  {
   "cell_type": "markdown",
   "metadata": {},
   "source": [
    "### 4) How many players have hit 600 or more HRs for their careers?"
   ]
  },
  {
   "cell_type": "code",
   "execution_count": 11,
   "metadata": {
    "collapsed": true
   },
   "outputs": [],
   "source": [
    "results = pd.DataFrame(dataset.groupby('playerID')['HR'].agg('sum'))"
   ]
  },
  {
   "cell_type": "code",
   "execution_count": 12,
   "metadata": {
    "collapsed": true
   },
   "outputs": [],
   "source": [
    "final_results = results[results['HR'] >= 600].reset_index()"
   ]
  },
  {
   "cell_type": "code",
   "execution_count": 13,
   "metadata": {
    "collapsed": true
   },
   "outputs": [],
   "source": [
    "final_results.columns = ['playerID', 'totalHR']"
   ]
  },
  {
   "cell_type": "code",
   "execution_count": 14,
   "metadata": {
    "collapsed": true
   },
   "outputs": [],
   "source": [
    "answer = pd.merge(final_results, dataset, how='inner', on = 'playerID')"
   ]
  },
  {
   "cell_type": "code",
   "execution_count": 15,
   "metadata": {
    "collapsed": true
   },
   "outputs": [],
   "source": [
    "answer = answer.drop_duplicates(subset=['playerID'], keep='first').reset_index()"
   ]
  },
  {
   "cell_type": "code",
   "execution_count": 16,
   "metadata": {},
   "outputs": [
    {
     "data": {
      "text/html": [
       "<div>\n",
       "<style>\n",
       "    .dataframe thead tr:only-child th {\n",
       "        text-align: right;\n",
       "    }\n",
       "\n",
       "    .dataframe thead th {\n",
       "        text-align: left;\n",
       "    }\n",
       "\n",
       "    .dataframe tbody tr th {\n",
       "        vertical-align: top;\n",
       "    }\n",
       "</style>\n",
       "<table border=\"1\" class=\"dataframe\">\n",
       "  <thead>\n",
       "    <tr style=\"text-align: right;\">\n",
       "      <th></th>\n",
       "      <th>nameFirst</th>\n",
       "      <th>nameLast</th>\n",
       "      <th>totalHR</th>\n",
       "    </tr>\n",
       "  </thead>\n",
       "  <tbody>\n",
       "    <tr>\n",
       "      <th>0</th>\n",
       "      <td>Barry</td>\n",
       "      <td>Bonds</td>\n",
       "      <td>762</td>\n",
       "    </tr>\n",
       "    <tr>\n",
       "      <th>1</th>\n",
       "      <td>Hank</td>\n",
       "      <td>Aaron</td>\n",
       "      <td>755</td>\n",
       "    </tr>\n",
       "    <tr>\n",
       "      <th>2</th>\n",
       "      <td>Babe</td>\n",
       "      <td>Ruth</td>\n",
       "      <td>714</td>\n",
       "    </tr>\n",
       "    <tr>\n",
       "      <th>3</th>\n",
       "      <td>Alex</td>\n",
       "      <td>Rodriguez</td>\n",
       "      <td>696</td>\n",
       "    </tr>\n",
       "    <tr>\n",
       "      <th>4</th>\n",
       "      <td>Willie</td>\n",
       "      <td>Mays</td>\n",
       "      <td>660</td>\n",
       "    </tr>\n",
       "    <tr>\n",
       "      <th>5</th>\n",
       "      <td>Ken</td>\n",
       "      <td>Griffey</td>\n",
       "      <td>630</td>\n",
       "    </tr>\n",
       "    <tr>\n",
       "      <th>6</th>\n",
       "      <td>Jim</td>\n",
       "      <td>Thome</td>\n",
       "      <td>612</td>\n",
       "    </tr>\n",
       "    <tr>\n",
       "      <th>7</th>\n",
       "      <td>Sammy</td>\n",
       "      <td>Sosa</td>\n",
       "      <td>609</td>\n",
       "    </tr>\n",
       "  </tbody>\n",
       "</table>\n",
       "</div>"
      ],
      "text/plain": [
       "  nameFirst   nameLast  totalHR\n",
       "0     Barry      Bonds      762\n",
       "1      Hank      Aaron      755\n",
       "2      Babe       Ruth      714\n",
       "3      Alex  Rodriguez      696\n",
       "4    Willie       Mays      660\n",
       "5       Ken    Griffey      630\n",
       "6       Jim      Thome      612\n",
       "7     Sammy       Sosa      609"
      ]
     },
     "execution_count": 16,
     "metadata": {},
     "output_type": "execute_result"
    }
   ],
   "source": [
    "answer[['playerID', 'nameFirst', 'nameLast', 'totalHR']].sort_values('totalHR', ascending=False).reset_index()[['nameFirst', 'nameLast','totalHR']]"
   ]
  },
  {
   "cell_type": "markdown",
   "metadata": {},
   "source": [
    "### 5) How many unique players have hit 40 2Bs or more, 10 3Bs or more, 200 Hits or more, and 30 HRs or more in one season?"
   ]
  },
  {
   "cell_type": "code",
   "execution_count": 17,
   "metadata": {
    "collapsed": true
   },
   "outputs": [],
   "source": [
    "result = dataset[['playerID','yearID', '2B', '3B', 'H', 'HR']].groupby(['playerID', 'yearID']).agg('sum')"
   ]
  },
  {
   "cell_type": "code",
   "execution_count": 18,
   "metadata": {},
   "outputs": [
    {
     "data": {
      "text/plain": [
       "11"
      ]
     },
     "execution_count": 18,
     "metadata": {},
     "output_type": "execute_result"
    }
   ],
   "source": [
    "result[(result['2B'] >= 40) & (result['3B'] >= 10) & (result['H'] >= 200) & (result['HR'] >= 30)].reset_index()[['playerID']].nunique()[0]"
   ]
  },
  {
   "cell_type": "markdown",
   "metadata": {},
   "source": [
    "### 6) How many players seasons have had 100 or more SBs? (Dataframe, first name, last name, yearID, number of SBs, ordered from descending SBs)"
   ]
  },
  {
   "cell_type": "code",
   "execution_count": 19,
   "metadata": {
    "collapsed": true
   },
   "outputs": [],
   "source": [
    "result = pd.DataFrame(dataset.groupby(['playerID', 'yearID'])['SB'].agg('sum'))"
   ]
  },
  {
   "cell_type": "code",
   "execution_count": 20,
   "metadata": {},
   "outputs": [
    {
     "data": {
      "text/html": [
       "<div>\n",
       "<style>\n",
       "    .dataframe thead tr:only-child th {\n",
       "        text-align: right;\n",
       "    }\n",
       "\n",
       "    .dataframe thead th {\n",
       "        text-align: left;\n",
       "    }\n",
       "\n",
       "    .dataframe tbody tr th {\n",
       "        vertical-align: top;\n",
       "    }\n",
       "</style>\n",
       "<table border=\"1\" class=\"dataframe\">\n",
       "  <thead>\n",
       "    <tr style=\"text-align: right;\">\n",
       "      <th></th>\n",
       "      <th>nameFirst</th>\n",
       "      <th>nameLast</th>\n",
       "      <th>yearID</th>\n",
       "      <th>SB_x</th>\n",
       "    </tr>\n",
       "  </thead>\n",
       "  <tbody>\n",
       "    <tr>\n",
       "      <th>0</th>\n",
       "      <td>Hugh</td>\n",
       "      <td>Nicol</td>\n",
       "      <td>1887</td>\n",
       "      <td>138.0</td>\n",
       "    </tr>\n",
       "    <tr>\n",
       "      <th>1</th>\n",
       "      <td>Rickey</td>\n",
       "      <td>Henderson</td>\n",
       "      <td>1982</td>\n",
       "      <td>130.0</td>\n",
       "    </tr>\n",
       "    <tr>\n",
       "      <th>2</th>\n",
       "      <td>Arlie</td>\n",
       "      <td>Latham</td>\n",
       "      <td>1887</td>\n",
       "      <td>129.0</td>\n",
       "    </tr>\n",
       "    <tr>\n",
       "      <th>3</th>\n",
       "      <td>Lou</td>\n",
       "      <td>Brock</td>\n",
       "      <td>1974</td>\n",
       "      <td>118.0</td>\n",
       "    </tr>\n",
       "    <tr>\n",
       "      <th>4</th>\n",
       "      <td>Charlie</td>\n",
       "      <td>Comiskey</td>\n",
       "      <td>1887</td>\n",
       "      <td>117.0</td>\n",
       "    </tr>\n",
       "    <tr>\n",
       "      <th>5</th>\n",
       "      <td>Billy</td>\n",
       "      <td>Hamilton</td>\n",
       "      <td>1889</td>\n",
       "      <td>111.0</td>\n",
       "    </tr>\n",
       "    <tr>\n",
       "      <th>6</th>\n",
       "      <td>John</td>\n",
       "      <td>Ward</td>\n",
       "      <td>1887</td>\n",
       "      <td>111.0</td>\n",
       "    </tr>\n",
       "    <tr>\n",
       "      <th>7</th>\n",
       "      <td>Billy</td>\n",
       "      <td>Hamilton</td>\n",
       "      <td>1891</td>\n",
       "      <td>111.0</td>\n",
       "    </tr>\n",
       "    <tr>\n",
       "      <th>8</th>\n",
       "      <td>Vince</td>\n",
       "      <td>Coleman</td>\n",
       "      <td>1985</td>\n",
       "      <td>110.0</td>\n",
       "    </tr>\n",
       "    <tr>\n",
       "      <th>9</th>\n",
       "      <td>Vince</td>\n",
       "      <td>Coleman</td>\n",
       "      <td>1987</td>\n",
       "      <td>109.0</td>\n",
       "    </tr>\n",
       "    <tr>\n",
       "      <th>10</th>\n",
       "      <td>Arlie</td>\n",
       "      <td>Latham</td>\n",
       "      <td>1888</td>\n",
       "      <td>109.0</td>\n",
       "    </tr>\n",
       "    <tr>\n",
       "      <th>11</th>\n",
       "      <td>Rickey</td>\n",
       "      <td>Henderson</td>\n",
       "      <td>1983</td>\n",
       "      <td>108.0</td>\n",
       "    </tr>\n",
       "    <tr>\n",
       "      <th>12</th>\n",
       "      <td>Vince</td>\n",
       "      <td>Coleman</td>\n",
       "      <td>1986</td>\n",
       "      <td>107.0</td>\n",
       "    </tr>\n",
       "    <tr>\n",
       "      <th>13</th>\n",
       "      <td>Tom</td>\n",
       "      <td>Brown</td>\n",
       "      <td>1891</td>\n",
       "      <td>106.0</td>\n",
       "    </tr>\n",
       "    <tr>\n",
       "      <th>14</th>\n",
       "      <td>Maury</td>\n",
       "      <td>Wills</td>\n",
       "      <td>1962</td>\n",
       "      <td>104.0</td>\n",
       "    </tr>\n",
       "    <tr>\n",
       "      <th>15</th>\n",
       "      <td>Pete</td>\n",
       "      <td>Browning</td>\n",
       "      <td>1887</td>\n",
       "      <td>103.0</td>\n",
       "    </tr>\n",
       "    <tr>\n",
       "      <th>16</th>\n",
       "      <td>Hugh</td>\n",
       "      <td>Nicol</td>\n",
       "      <td>1888</td>\n",
       "      <td>103.0</td>\n",
       "    </tr>\n",
       "    <tr>\n",
       "      <th>17</th>\n",
       "      <td>Jim</td>\n",
       "      <td>Fogarty</td>\n",
       "      <td>1887</td>\n",
       "      <td>102.0</td>\n",
       "    </tr>\n",
       "    <tr>\n",
       "      <th>18</th>\n",
       "      <td>Billy</td>\n",
       "      <td>Hamilton</td>\n",
       "      <td>1890</td>\n",
       "      <td>102.0</td>\n",
       "    </tr>\n",
       "    <tr>\n",
       "      <th>19</th>\n",
       "      <td>Rickey</td>\n",
       "      <td>Henderson</td>\n",
       "      <td>1980</td>\n",
       "      <td>100.0</td>\n",
       "    </tr>\n",
       "  </tbody>\n",
       "</table>\n",
       "</div>"
      ],
      "text/plain": [
       "   nameFirst   nameLast  yearID   SB_x\n",
       "0       Hugh      Nicol    1887  138.0\n",
       "1     Rickey  Henderson    1982  130.0\n",
       "2      Arlie     Latham    1887  129.0\n",
       "3        Lou      Brock    1974  118.0\n",
       "4    Charlie   Comiskey    1887  117.0\n",
       "5      Billy   Hamilton    1889  111.0\n",
       "6       John       Ward    1887  111.0\n",
       "7      Billy   Hamilton    1891  111.0\n",
       "8      Vince    Coleman    1985  110.0\n",
       "9      Vince    Coleman    1987  109.0\n",
       "10     Arlie     Latham    1888  109.0\n",
       "11    Rickey  Henderson    1983  108.0\n",
       "12     Vince    Coleman    1986  107.0\n",
       "13       Tom      Brown    1891  106.0\n",
       "14     Maury      Wills    1962  104.0\n",
       "15      Pete   Browning    1887  103.0\n",
       "16      Hugh      Nicol    1888  103.0\n",
       "17       Jim    Fogarty    1887  102.0\n",
       "18     Billy   Hamilton    1890  102.0\n",
       "19    Rickey  Henderson    1980  100.0"
      ]
     },
     "execution_count": 20,
     "metadata": {},
     "output_type": "execute_result"
    }
   ],
   "source": [
    "pd.merge(result[result['SB'] >= 100].reset_index(),dataset,how='inner',on=(['playerID','yearID'])).sort_values('SB_x', ascending=False).reset_index()[['nameFirst', 'nameLast', 'yearID', 'SB_x']]"
   ]
  },
  {
   "cell_type": "markdown",
   "metadata": {},
   "source": [
    "### 7)\tHow many players in the 1960s (yearID) have hit 200 or more HRs? (Dataframe, first name, last name, number of HRs, ordered descending by HR amt)"
   ]
  },
  {
   "cell_type": "code",
   "execution_count": 21,
   "metadata": {
    "collapsed": true
   },
   "outputs": [],
   "source": [
    "dataset_1960s = dataset[(dataset['yearID'] >= 1960) & (dataset['yearID'] <= 1969)]"
   ]
  },
  {
   "cell_type": "code",
   "execution_count": 22,
   "metadata": {
    "collapsed": true
   },
   "outputs": [],
   "source": [
    "result = pd.DataFrame(dataset_1960s.groupby('playerID')['HR'].agg('sum'))"
   ]
  },
  {
   "cell_type": "code",
   "execution_count": 23,
   "metadata": {
    "collapsed": true
   },
   "outputs": [],
   "source": [
    "final_result = result[result['HR'] >= 200].reset_index()"
   ]
  },
  {
   "cell_type": "code",
   "execution_count": 24,
   "metadata": {
    "collapsed": true
   },
   "outputs": [],
   "source": [
    "answer = pd.merge(final_result, dataset, how='inner', on='playerID').drop_duplicates(subset='playerID', keep='first')"
   ]
  },
  {
   "cell_type": "code",
   "execution_count": 25,
   "metadata": {},
   "outputs": [
    {
     "data": {
      "text/html": [
       "<div>\n",
       "<style>\n",
       "    .dataframe thead tr:only-child th {\n",
       "        text-align: right;\n",
       "    }\n",
       "\n",
       "    .dataframe thead th {\n",
       "        text-align: left;\n",
       "    }\n",
       "\n",
       "    .dataframe tbody tr th {\n",
       "        vertical-align: top;\n",
       "    }\n",
       "</style>\n",
       "<table border=\"1\" class=\"dataframe\">\n",
       "  <thead>\n",
       "    <tr style=\"text-align: right;\">\n",
       "      <th></th>\n",
       "      <th>nameFirst</th>\n",
       "      <th>nameLast</th>\n",
       "      <th>HR_x</th>\n",
       "    </tr>\n",
       "  </thead>\n",
       "  <tbody>\n",
       "    <tr>\n",
       "      <th>0</th>\n",
       "      <td>Harmon</td>\n",
       "      <td>Killebrew</td>\n",
       "      <td>393</td>\n",
       "    </tr>\n",
       "    <tr>\n",
       "      <th>1</th>\n",
       "      <td>Hank</td>\n",
       "      <td>Aaron</td>\n",
       "      <td>375</td>\n",
       "    </tr>\n",
       "    <tr>\n",
       "      <th>2</th>\n",
       "      <td>Willie</td>\n",
       "      <td>Mays</td>\n",
       "      <td>350</td>\n",
       "    </tr>\n",
       "    <tr>\n",
       "      <th>3</th>\n",
       "      <td>Frank</td>\n",
       "      <td>Robinson</td>\n",
       "      <td>316</td>\n",
       "    </tr>\n",
       "    <tr>\n",
       "      <th>4</th>\n",
       "      <td>Willie</td>\n",
       "      <td>McCovey</td>\n",
       "      <td>300</td>\n",
       "    </tr>\n",
       "    <tr>\n",
       "      <th>5</th>\n",
       "      <td>Frank</td>\n",
       "      <td>Howard</td>\n",
       "      <td>288</td>\n",
       "    </tr>\n",
       "    <tr>\n",
       "      <th>6</th>\n",
       "      <td>Norm</td>\n",
       "      <td>Cash</td>\n",
       "      <td>278</td>\n",
       "    </tr>\n",
       "    <tr>\n",
       "      <th>7</th>\n",
       "      <td>Ernie</td>\n",
       "      <td>Banks</td>\n",
       "      <td>269</td>\n",
       "    </tr>\n",
       "    <tr>\n",
       "      <th>8</th>\n",
       "      <td>Mickey</td>\n",
       "      <td>Mantle</td>\n",
       "      <td>256</td>\n",
       "    </tr>\n",
       "    <tr>\n",
       "      <th>9</th>\n",
       "      <td>Orlando</td>\n",
       "      <td>Cepeda</td>\n",
       "      <td>254</td>\n",
       "    </tr>\n",
       "    <tr>\n",
       "      <th>10</th>\n",
       "      <td>Ron</td>\n",
       "      <td>Santo</td>\n",
       "      <td>253</td>\n",
       "    </tr>\n",
       "    <tr>\n",
       "      <th>11</th>\n",
       "      <td>Billy</td>\n",
       "      <td>Williams</td>\n",
       "      <td>249</td>\n",
       "    </tr>\n",
       "    <tr>\n",
       "      <th>12</th>\n",
       "      <td>Rocky</td>\n",
       "      <td>Colavito</td>\n",
       "      <td>245</td>\n",
       "    </tr>\n",
       "    <tr>\n",
       "      <th>13</th>\n",
       "      <td>Bob</td>\n",
       "      <td>Allison</td>\n",
       "      <td>225</td>\n",
       "    </tr>\n",
       "    <tr>\n",
       "      <th>14</th>\n",
       "      <td>Roger</td>\n",
       "      <td>Maris</td>\n",
       "      <td>217</td>\n",
       "    </tr>\n",
       "    <tr>\n",
       "      <th>15</th>\n",
       "      <td>Eddie</td>\n",
       "      <td>Mathews</td>\n",
       "      <td>213</td>\n",
       "    </tr>\n",
       "    <tr>\n",
       "      <th>16</th>\n",
       "      <td>Al</td>\n",
       "      <td>Kaline</td>\n",
       "      <td>210</td>\n",
       "    </tr>\n",
       "    <tr>\n",
       "      <th>17</th>\n",
       "      <td>Boog</td>\n",
       "      <td>Powell</td>\n",
       "      <td>202</td>\n",
       "    </tr>\n",
       "    <tr>\n",
       "      <th>18</th>\n",
       "      <td>Carl</td>\n",
       "      <td>Yastrzemski</td>\n",
       "      <td>202</td>\n",
       "    </tr>\n",
       "  </tbody>\n",
       "</table>\n",
       "</div>"
      ],
      "text/plain": [
       "   nameFirst     nameLast  HR_x\n",
       "0     Harmon    Killebrew   393\n",
       "1       Hank        Aaron   375\n",
       "2     Willie         Mays   350\n",
       "3      Frank     Robinson   316\n",
       "4     Willie      McCovey   300\n",
       "5      Frank       Howard   288\n",
       "6       Norm         Cash   278\n",
       "7      Ernie        Banks   269\n",
       "8     Mickey       Mantle   256\n",
       "9    Orlando       Cepeda   254\n",
       "10       Ron        Santo   253\n",
       "11     Billy     Williams   249\n",
       "12     Rocky     Colavito   245\n",
       "13       Bob      Allison   225\n",
       "14     Roger        Maris   217\n",
       "15     Eddie      Mathews   213\n",
       "16        Al       Kaline   210\n",
       "17      Boog       Powell   202\n",
       "18      Carl  Yastrzemski   202"
      ]
     },
     "execution_count": 25,
     "metadata": {},
     "output_type": "execute_result"
    }
   ],
   "source": [
    "answer[['playerID', 'nameFirst', 'nameLast', 'HR_x']].sort_values('HR_x', ascending=False).reset_index()[['nameFirst', 'nameLast', 'HR_x']]"
   ]
  },
  {
   "cell_type": "markdown",
   "metadata": {},
   "source": [
    "### 8) Who has hit the most HRs in history? (Dataframe, first name, last name, HRs)"
   ]
  },
  {
   "cell_type": "code",
   "execution_count": 26,
   "metadata": {
    "collapsed": true
   },
   "outputs": [],
   "source": [
    "total_dataset = pd.DataFrame(dataset.groupby('playerID')['HR'].agg('sum'))"
   ]
  },
  {
   "cell_type": "code",
   "execution_count": 27,
   "metadata": {
    "collapsed": true
   },
   "outputs": [],
   "source": [
    "total_HR = total_dataset.sort_values('HR', ascending=False).reset_index()"
   ]
  },
  {
   "cell_type": "code",
   "execution_count": 28,
   "metadata": {
    "collapsed": true
   },
   "outputs": [],
   "source": [
    "answer = pd.merge(total_HR, dataset, how='inner', on='playerID')"
   ]
  },
  {
   "cell_type": "code",
   "execution_count": 29,
   "metadata": {},
   "outputs": [
    {
     "data": {
      "text/html": [
       "<div>\n",
       "<style>\n",
       "    .dataframe thead tr:only-child th {\n",
       "        text-align: right;\n",
       "    }\n",
       "\n",
       "    .dataframe thead th {\n",
       "        text-align: left;\n",
       "    }\n",
       "\n",
       "    .dataframe tbody tr th {\n",
       "        vertical-align: top;\n",
       "    }\n",
       "</style>\n",
       "<table border=\"1\" class=\"dataframe\">\n",
       "  <thead>\n",
       "    <tr style=\"text-align: right;\">\n",
       "      <th></th>\n",
       "      <th>nameFirst</th>\n",
       "      <th>nameLast</th>\n",
       "      <th>HR_x</th>\n",
       "    </tr>\n",
       "  </thead>\n",
       "  <tbody>\n",
       "    <tr>\n",
       "      <th>0</th>\n",
       "      <td>Barry</td>\n",
       "      <td>Bonds</td>\n",
       "      <td>762</td>\n",
       "    </tr>\n",
       "  </tbody>\n",
       "</table>\n",
       "</div>"
      ],
      "text/plain": [
       "  nameFirst nameLast  HR_x\n",
       "0     Barry    Bonds   762"
      ]
     },
     "execution_count": 29,
     "metadata": {},
     "output_type": "execute_result"
    }
   ],
   "source": [
    "answer.drop_duplicates(subset=['playerID'], keep='first')[['nameFirst', 'nameLast', 'HR_x']].head(1)"
   ]
  },
  {
   "cell_type": "markdown",
   "metadata": {},
   "source": [
    "### 9)\tWho had the most hits (H) in the 1970s? (Dataframe)"
   ]
  },
  {
   "cell_type": "code",
   "execution_count": 30,
   "metadata": {
    "collapsed": true
   },
   "outputs": [],
   "source": [
    "dataset_1970s = dataset[(dataset['yearID'] >= 1970) & (dataset['yearID'] <= 1979)]"
   ]
  },
  {
   "cell_type": "code",
   "execution_count": 31,
   "metadata": {
    "collapsed": true
   },
   "outputs": [],
   "source": [
    "most_hits = pd.DataFrame(dataset_1970s.groupby('playerID')['H'].agg('sum')).sort_values('H', ascending=False).reset_index().head(1)"
   ]
  },
  {
   "cell_type": "code",
   "execution_count": 32,
   "metadata": {
    "collapsed": true
   },
   "outputs": [],
   "source": [
    "answer = pd.merge(dataset_1970s, most_hits, how='inner', on='playerID')"
   ]
  },
  {
   "cell_type": "code",
   "execution_count": 33,
   "metadata": {},
   "outputs": [
    {
     "data": {
      "text/html": [
       "<div>\n",
       "<style>\n",
       "    .dataframe thead tr:only-child th {\n",
       "        text-align: right;\n",
       "    }\n",
       "\n",
       "    .dataframe thead th {\n",
       "        text-align: left;\n",
       "    }\n",
       "\n",
       "    .dataframe tbody tr th {\n",
       "        vertical-align: top;\n",
       "    }\n",
       "</style>\n",
       "<table border=\"1\" class=\"dataframe\">\n",
       "  <thead>\n",
       "    <tr style=\"text-align: right;\">\n",
       "      <th></th>\n",
       "      <th>nameFirst</th>\n",
       "      <th>nameLast</th>\n",
       "      <th>H_x</th>\n",
       "    </tr>\n",
       "  </thead>\n",
       "  <tbody>\n",
       "    <tr>\n",
       "      <th>0</th>\n",
       "      <td>Pete</td>\n",
       "      <td>Rose</td>\n",
       "      <td>205</td>\n",
       "    </tr>\n",
       "  </tbody>\n",
       "</table>\n",
       "</div>"
      ],
      "text/plain": [
       "  nameFirst nameLast  H_x\n",
       "0      Pete     Rose  205"
      ]
     },
     "execution_count": 33,
     "metadata": {},
     "output_type": "execute_result"
    }
   ],
   "source": [
    "answer.drop_duplicates(subset='playerID', keep='first')[['nameFirst', 'nameLast', 'H_x']]"
   ]
  },
  {
   "cell_type": "markdown",
   "metadata": {},
   "source": [
    "### 10) Top 5 highest OBP (on base percentage) with at least 500 PAs in 1977?  (Dataframe, first name, last name, OBP, ordered descending by OBP)"
   ]
  },
  {
   "cell_type": "markdown",
   "metadata": {},
   "source": [
    "#### OBP = (Hits + Walks + Hit by Pitch) / (At Bats + Walks + Hit by Pitch + Sacrifice Flies)"
   ]
  },
  {
   "cell_type": "markdown",
   "metadata": {},
   "source": [
    "#### PA = AB + BB + HBP + SH + SF + Times Reached on Defensive Interference"
   ]
  },
  {
   "cell_type": "code",
   "execution_count": 34,
   "metadata": {
    "collapsed": true
   },
   "outputs": [],
   "source": [
    "dataset['OBP'] = (dataset['H'] + dataset['BB'] + dataset['HBP']) / (dataset['AB'] + dataset['BB'] + dataset['HBP'] + dataset['SF'])"
   ]
  },
  {
   "cell_type": "code",
   "execution_count": 35,
   "metadata": {
    "collapsed": true
   },
   "outputs": [],
   "source": [
    "dataset['PA'] = dataset['AB'] + dataset['BB'] + dataset['HBP'] + dataset['SH'] + dataset['SF']"
   ]
  },
  {
   "cell_type": "code",
   "execution_count": 36,
   "metadata": {},
   "outputs": [
    {
     "data": {
      "text/html": [
       "<div>\n",
       "<style>\n",
       "    .dataframe thead tr:only-child th {\n",
       "        text-align: right;\n",
       "    }\n",
       "\n",
       "    .dataframe thead th {\n",
       "        text-align: left;\n",
       "    }\n",
       "\n",
       "    .dataframe tbody tr th {\n",
       "        vertical-align: top;\n",
       "    }\n",
       "</style>\n",
       "<table border=\"1\" class=\"dataframe\">\n",
       "  <thead>\n",
       "    <tr style=\"text-align: right;\">\n",
       "      <th></th>\n",
       "      <th>nameFirst</th>\n",
       "      <th>nameLast</th>\n",
       "      <th>OBP</th>\n",
       "    </tr>\n",
       "  </thead>\n",
       "  <tbody>\n",
       "    <tr>\n",
       "      <th>0</th>\n",
       "      <td>Rod</td>\n",
       "      <td>Carew</td>\n",
       "      <td>0.448773</td>\n",
       "    </tr>\n",
       "    <tr>\n",
       "      <th>1</th>\n",
       "      <td>Ken</td>\n",
       "      <td>Singleton</td>\n",
       "      <td>0.437788</td>\n",
       "    </tr>\n",
       "    <tr>\n",
       "      <th>2</th>\n",
       "      <td>Reggie</td>\n",
       "      <td>Smith</td>\n",
       "      <td>0.426910</td>\n",
       "    </tr>\n",
       "    <tr>\n",
       "      <th>3</th>\n",
       "      <td>Mike</td>\n",
       "      <td>Hargrove</td>\n",
       "      <td>0.420312</td>\n",
       "    </tr>\n",
       "    <tr>\n",
       "      <th>4</th>\n",
       "      <td>Joe</td>\n",
       "      <td>Morgan</td>\n",
       "      <td>0.417054</td>\n",
       "    </tr>\n",
       "  </tbody>\n",
       "</table>\n",
       "</div>"
      ],
      "text/plain": [
       "  nameFirst   nameLast       OBP\n",
       "0       Rod      Carew  0.448773\n",
       "1       Ken  Singleton  0.437788\n",
       "2    Reggie      Smith  0.426910\n",
       "3      Mike   Hargrove  0.420312\n",
       "4       Joe     Morgan  0.417054"
      ]
     },
     "execution_count": 36,
     "metadata": {},
     "output_type": "execute_result"
    }
   ],
   "source": [
    "dataset[(dataset['yearID'] == 1977) & (dataset['PA'] >= 500)].sort_values('OBP', ascending=False).reset_index().head(5)[['nameFirst', 'nameLast', 'OBP']]"
   ]
  },
  {
   "cell_type": "markdown",
   "metadata": {},
   "source": [
    "### 11) Top 8 highest averages in 2013 with at least 300 PAs? (Dataframe, first name, last name, average, descending by average)"
   ]
  },
  {
   "cell_type": "markdown",
   "metadata": {},
   "source": [
    "#### BA = Hits / At Bats"
   ]
  },
  {
   "cell_type": "code",
   "execution_count": 37,
   "metadata": {
    "collapsed": true
   },
   "outputs": [],
   "source": [
    "dataset['BA'] = dataset['H'] / dataset['AB']"
   ]
  },
  {
   "cell_type": "code",
   "execution_count": 38,
   "metadata": {
    "collapsed": true
   },
   "outputs": [],
   "source": [
    "dataset_2013 = dataset[(dataset['yearID'] == 2013) & (dataset['PA'] >= 300)]"
   ]
  },
  {
   "cell_type": "code",
   "execution_count": 39,
   "metadata": {},
   "outputs": [
    {
     "data": {
      "text/html": [
       "<div>\n",
       "<style>\n",
       "    .dataframe thead tr:only-child th {\n",
       "        text-align: right;\n",
       "    }\n",
       "\n",
       "    .dataframe thead th {\n",
       "        text-align: left;\n",
       "    }\n",
       "\n",
       "    .dataframe tbody tr th {\n",
       "        vertical-align: top;\n",
       "    }\n",
       "</style>\n",
       "<table border=\"1\" class=\"dataframe\">\n",
       "  <thead>\n",
       "    <tr style=\"text-align: right;\">\n",
       "      <th></th>\n",
       "      <th>nameFirst</th>\n",
       "      <th>nameLast</th>\n",
       "      <th>BA</th>\n",
       "    </tr>\n",
       "  </thead>\n",
       "  <tbody>\n",
       "    <tr>\n",
       "      <th>0</th>\n",
       "      <td>Miguel</td>\n",
       "      <td>Cabrera</td>\n",
       "      <td>0.347748</td>\n",
       "    </tr>\n",
       "    <tr>\n",
       "      <th>1</th>\n",
       "      <td>Hanley</td>\n",
       "      <td>Ramirez</td>\n",
       "      <td>0.345395</td>\n",
       "    </tr>\n",
       "    <tr>\n",
       "      <th>2</th>\n",
       "      <td>Michael</td>\n",
       "      <td>Cuddyer</td>\n",
       "      <td>0.331288</td>\n",
       "    </tr>\n",
       "    <tr>\n",
       "      <th>3</th>\n",
       "      <td>Joe</td>\n",
       "      <td>Mauer</td>\n",
       "      <td>0.323596</td>\n",
       "    </tr>\n",
       "    <tr>\n",
       "      <th>4</th>\n",
       "      <td>Mike</td>\n",
       "      <td>Trout</td>\n",
       "      <td>0.322581</td>\n",
       "    </tr>\n",
       "    <tr>\n",
       "      <th>5</th>\n",
       "      <td>Chris</td>\n",
       "      <td>Johnson</td>\n",
       "      <td>0.321012</td>\n",
       "    </tr>\n",
       "    <tr>\n",
       "      <th>6</th>\n",
       "      <td>Freddie</td>\n",
       "      <td>Freeman</td>\n",
       "      <td>0.319419</td>\n",
       "    </tr>\n",
       "    <tr>\n",
       "      <th>7</th>\n",
       "      <td>Yasiel</td>\n",
       "      <td>Puig</td>\n",
       "      <td>0.319372</td>\n",
       "    </tr>\n",
       "  </tbody>\n",
       "</table>\n",
       "</div>"
      ],
      "text/plain": [
       "  nameFirst nameLast        BA\n",
       "0    Miguel  Cabrera  0.347748\n",
       "1    Hanley  Ramirez  0.345395\n",
       "2   Michael  Cuddyer  0.331288\n",
       "3       Joe    Mauer  0.323596\n",
       "4      Mike    Trout  0.322581\n",
       "5     Chris  Johnson  0.321012\n",
       "6   Freddie  Freeman  0.319419\n",
       "7    Yasiel     Puig  0.319372"
      ]
     },
     "execution_count": 39,
     "metadata": {},
     "output_type": "execute_result"
    }
   ],
   "source": [
    "dataset_2013.sort_values('BA', ascending=False).reset_index().head(8)[['nameFirst', 'nameLast', 'BA']]"
   ]
  },
  {
   "cell_type": "markdown",
   "metadata": {},
   "source": [
    "### 12) Leaders in hits from 1940 up to and including 1949. (Dataframe, first name, last name, number of hits)"
   ]
  },
  {
   "cell_type": "code",
   "execution_count": 40,
   "metadata": {
    "collapsed": true
   },
   "outputs": [],
   "source": [
    "dataset_1940s = dataset[(dataset['yearID'] >= 1940) & (dataset['yearID'] <= 1949)]"
   ]
  },
  {
   "cell_type": "code",
   "execution_count": 41,
   "metadata": {
    "collapsed": true
   },
   "outputs": [],
   "source": [
    "results = pd.DataFrame(dataset_1940s.groupby('playerID')['H'].agg('sum').nlargest(5)).reset_index()"
   ]
  },
  {
   "cell_type": "code",
   "execution_count": 42,
   "metadata": {},
   "outputs": [
    {
     "data": {
      "text/html": [
       "<div>\n",
       "<style>\n",
       "    .dataframe thead tr:only-child th {\n",
       "        text-align: right;\n",
       "    }\n",
       "\n",
       "    .dataframe thead th {\n",
       "        text-align: left;\n",
       "    }\n",
       "\n",
       "    .dataframe tbody tr th {\n",
       "        vertical-align: top;\n",
       "    }\n",
       "</style>\n",
       "<table border=\"1\" class=\"dataframe\">\n",
       "  <thead>\n",
       "    <tr style=\"text-align: right;\">\n",
       "      <th></th>\n",
       "      <th>nameFirst</th>\n",
       "      <th>nameLast</th>\n",
       "      <th>H_x</th>\n",
       "    </tr>\n",
       "  </thead>\n",
       "  <tbody>\n",
       "    <tr>\n",
       "      <th>0</th>\n",
       "      <td>Lou</td>\n",
       "      <td>Boudreau</td>\n",
       "      <td>1578</td>\n",
       "    </tr>\n",
       "    <tr>\n",
       "      <th>1</th>\n",
       "      <td>Bob</td>\n",
       "      <td>Elliott</td>\n",
       "      <td>1563</td>\n",
       "    </tr>\n",
       "    <tr>\n",
       "      <th>2</th>\n",
       "      <td>Dixie</td>\n",
       "      <td>Walker</td>\n",
       "      <td>1512</td>\n",
       "    </tr>\n",
       "    <tr>\n",
       "      <th>3</th>\n",
       "      <td>Stan</td>\n",
       "      <td>Musial</td>\n",
       "      <td>1432</td>\n",
       "    </tr>\n",
       "    <tr>\n",
       "      <th>4</th>\n",
       "      <td>Bobby</td>\n",
       "      <td>Doerr</td>\n",
       "      <td>1407</td>\n",
       "    </tr>\n",
       "  </tbody>\n",
       "</table>\n",
       "</div>"
      ],
      "text/plain": [
       "  nameFirst  nameLast   H_x\n",
       "0       Lou  Boudreau  1578\n",
       "1       Bob   Elliott  1563\n",
       "2     Dixie    Walker  1512\n",
       "3      Stan    Musial  1432\n",
       "4     Bobby     Doerr  1407"
      ]
     },
     "execution_count": 42,
     "metadata": {},
     "output_type": "execute_result"
    }
   ],
   "source": [
    "pd.merge(results, dataset, how='inner', on='playerID').drop_duplicates(subset='playerID', keep='first').reset_index()[['nameFirst', 'nameLast', 'H_x']]"
   ]
  },
  {
   "cell_type": "markdown",
   "metadata": {},
   "source": [
    "### 13) Who led MLB with the most hits the most times?  And how many times?  (Dataframe, Number of hits)"
   ]
  },
  {
   "cell_type": "code",
   "execution_count": 43,
   "metadata": {
    "collapsed": true
   },
   "outputs": [],
   "source": [
    "dataset_MLB = dataset[(dataset['lgID'] == 'AL') | (dataset['lgID'] == 'NL')]"
   ]
  },
  {
   "cell_type": "code",
   "execution_count": 44,
   "metadata": {
    "collapsed": true
   },
   "outputs": [],
   "source": [
    "total_dataset = pd.DataFrame(dataset_MLB.groupby(['playerID','yearID'])['H'].agg('sum'))"
   ]
  },
  {
   "cell_type": "code",
   "execution_count": 45,
   "metadata": {
    "collapsed": true
   },
   "outputs": [],
   "source": [
    "result = total_dataset.reset_index().sort_values(['yearID','H'], ascending=False).groupby('yearID').head(1)"
   ]
  },
  {
   "cell_type": "code",
   "execution_count": 46,
   "metadata": {
    "collapsed": true
   },
   "outputs": [],
   "source": [
    "result = pd.DataFrame(result.groupby(['playerID'])['H'].agg('count')).sort_values('H', ascending=False).reset_index().head(1)"
   ]
  },
  {
   "cell_type": "code",
   "execution_count": 47,
   "metadata": {
    "collapsed": true
   },
   "outputs": [],
   "source": [
    "result2 = pd.DataFrame(pd.merge(result, dataset_MLB, how='inner',on='playerID').groupby(['playerID', 'nameFirst', 'nameLast'])['H_y'].agg('sum')).reset_index()"
   ]
  },
  {
   "cell_type": "code",
   "execution_count": 48,
   "metadata": {},
   "outputs": [
    {
     "data": {
      "text/html": [
       "<div>\n",
       "<style>\n",
       "    .dataframe thead tr:only-child th {\n",
       "        text-align: right;\n",
       "    }\n",
       "\n",
       "    .dataframe thead th {\n",
       "        text-align: left;\n",
       "    }\n",
       "\n",
       "    .dataframe tbody tr th {\n",
       "        vertical-align: top;\n",
       "    }\n",
       "</style>\n",
       "<table border=\"1\" class=\"dataframe\">\n",
       "  <thead>\n",
       "    <tr style=\"text-align: right;\">\n",
       "      <th></th>\n",
       "      <th>nameFirst</th>\n",
       "      <th>nameLast</th>\n",
       "      <th>Total_H</th>\n",
       "      <th>Total_Count</th>\n",
       "    </tr>\n",
       "  </thead>\n",
       "  <tbody>\n",
       "    <tr>\n",
       "      <th>0</th>\n",
       "      <td>Ty</td>\n",
       "      <td>Cobb</td>\n",
       "      <td>4189</td>\n",
       "      <td>7</td>\n",
       "    </tr>\n",
       "  </tbody>\n",
       "</table>\n",
       "</div>"
      ],
      "text/plain": [
       "  nameFirst nameLast  Total_H  Total_Count\n",
       "0        Ty     Cobb     4189            7"
      ]
     },
     "execution_count": 48,
     "metadata": {},
     "output_type": "execute_result"
    }
   ],
   "source": [
    "pd.merge(result, result2, how='inner', on='playerID')[['nameFirst', 'nameLast', 'H_y', 'H']].rename(columns={'H_y':'Total_H', 'H':'Total_Count'})"
   ]
  },
  {
   "cell_type": "markdown",
   "metadata": {},
   "source": [
    "### 14) Which players have played the most games for their careers? (Top 5 first name, last name, descending by games played presented as a dataframe)"
   ]
  },
  {
   "cell_type": "code",
   "execution_count": 49,
   "metadata": {
    "collapsed": true
   },
   "outputs": [],
   "source": [
    "result = pd.DataFrame(dataset.groupby(['playerID'])['G'].agg('sum').nlargest(5)).reset_index()"
   ]
  },
  {
   "cell_type": "code",
   "execution_count": 50,
   "metadata": {},
   "outputs": [
    {
     "data": {
      "text/html": [
       "<div>\n",
       "<style>\n",
       "    .dataframe thead tr:only-child th {\n",
       "        text-align: right;\n",
       "    }\n",
       "\n",
       "    .dataframe thead th {\n",
       "        text-align: left;\n",
       "    }\n",
       "\n",
       "    .dataframe tbody tr th {\n",
       "        vertical-align: top;\n",
       "    }\n",
       "</style>\n",
       "<table border=\"1\" class=\"dataframe\">\n",
       "  <thead>\n",
       "    <tr style=\"text-align: right;\">\n",
       "      <th></th>\n",
       "      <th>nameFirst</th>\n",
       "      <th>nameLast</th>\n",
       "      <th>G_x</th>\n",
       "    </tr>\n",
       "  </thead>\n",
       "  <tbody>\n",
       "    <tr>\n",
       "      <th>0</th>\n",
       "      <td>Pete</td>\n",
       "      <td>Rose</td>\n",
       "      <td>3562</td>\n",
       "    </tr>\n",
       "    <tr>\n",
       "      <th>1</th>\n",
       "      <td>Carl</td>\n",
       "      <td>Yastrzemski</td>\n",
       "      <td>3308</td>\n",
       "    </tr>\n",
       "    <tr>\n",
       "      <th>2</th>\n",
       "      <td>Hank</td>\n",
       "      <td>Aaron</td>\n",
       "      <td>3298</td>\n",
       "    </tr>\n",
       "    <tr>\n",
       "      <th>3</th>\n",
       "      <td>Rickey</td>\n",
       "      <td>Henderson</td>\n",
       "      <td>3081</td>\n",
       "    </tr>\n",
       "    <tr>\n",
       "      <th>4</th>\n",
       "      <td>Ty</td>\n",
       "      <td>Cobb</td>\n",
       "      <td>3035</td>\n",
       "    </tr>\n",
       "  </tbody>\n",
       "</table>\n",
       "</div>"
      ],
      "text/plain": [
       "  nameFirst     nameLast   G_x\n",
       "0      Pete         Rose  3562\n",
       "1      Carl  Yastrzemski  3308\n",
       "2      Hank        Aaron  3298\n",
       "3    Rickey    Henderson  3081\n",
       "4        Ty         Cobb  3035"
      ]
     },
     "execution_count": 50,
     "metadata": {},
     "output_type": "execute_result"
    }
   ],
   "source": [
    "pd.merge(result,dataset, how='inner', on='playerID').drop_duplicates(subset='playerID', keep='first').reset_index().sort_values('G_x', ascending=False)[['nameFirst', 'nameLast', 'G_x']]"
   ]
  },
  {
   "cell_type": "markdown",
   "metadata": {},
   "source": [
    "### 15)\tHow many players have had 3000 or more hits for their careers while also hitting 500 or more HRs?  (Number only)"
   ]
  },
  {
   "cell_type": "code",
   "execution_count": 51,
   "metadata": {
    "collapsed": true
   },
   "outputs": [],
   "source": [
    "results = pd.DataFrame(dataset.groupby('playerID')[['H', 'HR']].agg('sum').reset_index())"
   ]
  },
  {
   "cell_type": "code",
   "execution_count": 52,
   "metadata": {
    "collapsed": true
   },
   "outputs": [],
   "source": [
    "answer = results[(results['H'] >= 3000) & (results['HR'] >= 500)].reset_index()[['playerID', 'H', 'HR']]"
   ]
  },
  {
   "cell_type": "code",
   "execution_count": 53,
   "metadata": {},
   "outputs": [
    {
     "data": {
      "text/plain": [
       "5"
      ]
     },
     "execution_count": 53,
     "metadata": {},
     "output_type": "execute_result"
    }
   ],
   "source": [
    "answer.shape[0]"
   ]
  },
  {
   "cell_type": "markdown",
   "metadata": {},
   "source": [
    "### 16) How many HRs were hit during the entire 1988 season?  (Number only)"
   ]
  },
  {
   "cell_type": "code",
   "execution_count": 54,
   "metadata": {
    "collapsed": true
   },
   "outputs": [],
   "source": [
    "dataset_1988 = dataset[dataset['yearID'] == 1988]"
   ]
  },
  {
   "cell_type": "code",
   "execution_count": 55,
   "metadata": {},
   "outputs": [
    {
     "data": {
      "text/plain": [
       "3180"
      ]
     },
     "execution_count": 55,
     "metadata": {},
     "output_type": "execute_result"
    }
   ],
   "source": [
    "list(dataset_1988.groupby('yearID')['HR'].agg('sum'))[0]"
   ]
  },
  {
   "cell_type": "markdown",
   "metadata": {},
   "source": [
    "### 17) Filter out and show the top 3 average seasons by Wade Boggs during his career in seasons in which he had at least 500 or more ABs.  (Dataframe, first name, last name, average, descending by average)"
   ]
  },
  {
   "cell_type": "code",
   "execution_count": 56,
   "metadata": {
    "collapsed": true
   },
   "outputs": [],
   "source": [
    "dataset_wadeboggs = dataset[(dataset['nameFirst'] == 'Wade') & (dataset['nameLast'] == 'Boggs')]"
   ]
  },
  {
   "cell_type": "code",
   "execution_count": 57,
   "metadata": {},
   "outputs": [
    {
     "data": {
      "text/html": [
       "<div>\n",
       "<style>\n",
       "    .dataframe thead tr:only-child th {\n",
       "        text-align: right;\n",
       "    }\n",
       "\n",
       "    .dataframe thead th {\n",
       "        text-align: left;\n",
       "    }\n",
       "\n",
       "    .dataframe tbody tr th {\n",
       "        vertical-align: top;\n",
       "    }\n",
       "</style>\n",
       "<table border=\"1\" class=\"dataframe\">\n",
       "  <thead>\n",
       "    <tr style=\"text-align: right;\">\n",
       "      <th></th>\n",
       "      <th>nameFirst</th>\n",
       "      <th>nameLast</th>\n",
       "      <th>yearID</th>\n",
       "      <th>BA</th>\n",
       "    </tr>\n",
       "  </thead>\n",
       "  <tbody>\n",
       "    <tr>\n",
       "      <th>62316</th>\n",
       "      <td>Wade</td>\n",
       "      <td>Boggs</td>\n",
       "      <td>1985</td>\n",
       "      <td>0.367534</td>\n",
       "    </tr>\n",
       "    <tr>\n",
       "      <th>65391</th>\n",
       "      <td>Wade</td>\n",
       "      <td>Boggs</td>\n",
       "      <td>1988</td>\n",
       "      <td>0.366438</td>\n",
       "    </tr>\n",
       "    <tr>\n",
       "      <th>64335</th>\n",
       "      <td>Wade</td>\n",
       "      <td>Boggs</td>\n",
       "      <td>1987</td>\n",
       "      <td>0.362976</td>\n",
       "    </tr>\n",
       "  </tbody>\n",
       "</table>\n",
       "</div>"
      ],
      "text/plain": [
       "      nameFirst nameLast  yearID        BA\n",
       "62316      Wade    Boggs    1985  0.367534\n",
       "65391      Wade    Boggs    1988  0.366438\n",
       "64335      Wade    Boggs    1987  0.362976"
      ]
     },
     "execution_count": 57,
     "metadata": {},
     "output_type": "execute_result"
    }
   ],
   "source": [
    "dataset_wadeboggs[dataset_wadeboggs['AB'] >= 500].sort_values('BA', ascending=False).head(3)[['nameFirst', 'nameLast','yearID','BA']]"
   ]
  },
  {
   "cell_type": "markdown",
   "metadata": {},
   "source": [
    "### 18) Filter out the top 10 OBPs for the 1995 season with 400 or more PAs, sorted by OBP descending.  (Dataframe with first name, last name, OBP)"
   ]
  },
  {
   "cell_type": "code",
   "execution_count": 58,
   "metadata": {
    "collapsed": true
   },
   "outputs": [],
   "source": [
    "dataset_1995 = dataset[(dataset['yearID'] == 1995) & (dataset['PA'] >= 400)]"
   ]
  },
  {
   "cell_type": "code",
   "execution_count": 59,
   "metadata": {},
   "outputs": [
    {
     "data": {
      "text/html": [
       "<div>\n",
       "<style>\n",
       "    .dataframe thead tr:only-child th {\n",
       "        text-align: right;\n",
       "    }\n",
       "\n",
       "    .dataframe thead th {\n",
       "        text-align: left;\n",
       "    }\n",
       "\n",
       "    .dataframe tbody tr th {\n",
       "        vertical-align: top;\n",
       "    }\n",
       "</style>\n",
       "<table border=\"1\" class=\"dataframe\">\n",
       "  <thead>\n",
       "    <tr style=\"text-align: right;\">\n",
       "      <th></th>\n",
       "      <th>nameFirst</th>\n",
       "      <th>nameLast</th>\n",
       "      <th>OBP</th>\n",
       "    </tr>\n",
       "  </thead>\n",
       "  <tbody>\n",
       "    <tr>\n",
       "      <th>0</th>\n",
       "      <td>Edgar</td>\n",
       "      <td>Martinez</td>\n",
       "      <td>0.478873</td>\n",
       "    </tr>\n",
       "    <tr>\n",
       "      <th>1</th>\n",
       "      <td>Frank</td>\n",
       "      <td>Thomas</td>\n",
       "      <td>0.454405</td>\n",
       "    </tr>\n",
       "    <tr>\n",
       "      <th>2</th>\n",
       "      <td>Mark</td>\n",
       "      <td>McGwire</td>\n",
       "      <td>0.440758</td>\n",
       "    </tr>\n",
       "    <tr>\n",
       "      <th>3</th>\n",
       "      <td>Jim</td>\n",
       "      <td>Thome</td>\n",
       "      <td>0.438061</td>\n",
       "    </tr>\n",
       "    <tr>\n",
       "      <th>4</th>\n",
       "      <td>Barry</td>\n",
       "      <td>Bonds</td>\n",
       "      <td>0.431496</td>\n",
       "    </tr>\n",
       "    <tr>\n",
       "      <th>5</th>\n",
       "      <td>Tim</td>\n",
       "      <td>Salmon</td>\n",
       "      <td>0.429467</td>\n",
       "    </tr>\n",
       "    <tr>\n",
       "      <th>6</th>\n",
       "      <td>Chili</td>\n",
       "      <td>Davis</td>\n",
       "      <td>0.429119</td>\n",
       "    </tr>\n",
       "    <tr>\n",
       "      <th>7</th>\n",
       "      <td>Dave</td>\n",
       "      <td>Magadan</td>\n",
       "      <td>0.427553</td>\n",
       "    </tr>\n",
       "    <tr>\n",
       "      <th>8</th>\n",
       "      <td>Chuck</td>\n",
       "      <td>Knoblauch</td>\n",
       "      <td>0.424483</td>\n",
       "    </tr>\n",
       "    <tr>\n",
       "      <th>9</th>\n",
       "      <td>Tim</td>\n",
       "      <td>Naehring</td>\n",
       "      <td>0.414729</td>\n",
       "    </tr>\n",
       "  </tbody>\n",
       "</table>\n",
       "</div>"
      ],
      "text/plain": [
       "  nameFirst   nameLast       OBP\n",
       "0     Edgar   Martinez  0.478873\n",
       "1     Frank     Thomas  0.454405\n",
       "2      Mark    McGwire  0.440758\n",
       "3       Jim      Thome  0.438061\n",
       "4     Barry      Bonds  0.431496\n",
       "5       Tim     Salmon  0.429467\n",
       "6     Chili      Davis  0.429119\n",
       "7      Dave    Magadan  0.427553\n",
       "8     Chuck  Knoblauch  0.424483\n",
       "9       Tim   Naehring  0.414729"
      ]
     },
     "execution_count": 59,
     "metadata": {},
     "output_type": "execute_result"
    }
   ],
   "source": [
    "dataset_1995.sort_values('OBP', ascending=False).reset_index()[['nameFirst', 'nameLast', 'OBP']].sort_values('OBP', ascending=False).head(10)"
   ]
  },
  {
   "cell_type": "markdown",
   "metadata": {},
   "source": [
    "### 19) Who had the most 3Bs (in total) in 1922, 1925, 1926, and 1928?  (Dataframe with first name, last name, number of 3Bs)"
   ]
  },
  {
   "cell_type": "code",
   "execution_count": 60,
   "metadata": {
    "collapsed": true
   },
   "outputs": [],
   "source": [
    "target_dataset = dataset[(dataset['yearID'] == 1922) | (dataset['yearID'] == 1925) | (dataset['yearID'] == 1926) | (dataset['yearID'] == 1928)]"
   ]
  },
  {
   "cell_type": "code",
   "execution_count": 61,
   "metadata": {
    "collapsed": true
   },
   "outputs": [],
   "source": [
    "result = target_dataset.groupby(['playerID'])['3B'].agg('sum').nlargest(1).reset_index()"
   ]
  },
  {
   "cell_type": "code",
   "execution_count": 62,
   "metadata": {},
   "outputs": [
    {
     "data": {
      "text/html": [
       "<div>\n",
       "<style>\n",
       "    .dataframe thead tr:only-child th {\n",
       "        text-align: right;\n",
       "    }\n",
       "\n",
       "    .dataframe thead th {\n",
       "        text-align: left;\n",
       "    }\n",
       "\n",
       "    .dataframe tbody tr th {\n",
       "        vertical-align: top;\n",
       "    }\n",
       "</style>\n",
       "<table border=\"1\" class=\"dataframe\">\n",
       "  <thead>\n",
       "    <tr style=\"text-align: right;\">\n",
       "      <th></th>\n",
       "      <th>nameFirst</th>\n",
       "      <th>nameLast</th>\n",
       "      <th>3B_x</th>\n",
       "    </tr>\n",
       "  </thead>\n",
       "  <tbody>\n",
       "    <tr>\n",
       "      <th>0</th>\n",
       "      <td>Curt</td>\n",
       "      <td>Walker</td>\n",
       "      <td>59</td>\n",
       "    </tr>\n",
       "  </tbody>\n",
       "</table>\n",
       "</div>"
      ],
      "text/plain": [
       "  nameFirst nameLast  3B_x\n",
       "0      Curt   Walker    59"
      ]
     },
     "execution_count": 62,
     "metadata": {},
     "output_type": "execute_result"
    }
   ],
   "source": [
    "pd.merge(result, target_dataset, how='inner', on='playerID').drop_duplicates(subset=['playerID'], keep='first')[['nameFirst', 'nameLast', '3B_x']]"
   ]
  },
  {
   "cell_type": "markdown",
   "metadata": {},
   "source": [
    "### 20) How many unique players have hit 30 or more HRs in season while also stealing (SB) 30 more or bases?  (Number only)"
   ]
  },
  {
   "cell_type": "code",
   "execution_count": 63,
   "metadata": {
    "collapsed": true
   },
   "outputs": [],
   "source": [
    "result = dataset.groupby(['playerID', 'yearID'])[['HR', 'SB']].agg('sum').reset_index()"
   ]
  },
  {
   "cell_type": "code",
   "execution_count": 64,
   "metadata": {},
   "outputs": [
    {
     "data": {
      "text/plain": [
       "38"
      ]
     },
     "execution_count": 64,
     "metadata": {},
     "output_type": "execute_result"
    }
   ],
   "source": [
    "list(result[(result['HR']>=30) & (result['SB']>=30)][['playerID']].nunique())[0]"
   ]
  },
  {
   "cell_type": "markdown",
   "metadata": {},
   "source": [
    "### 21) Who had the highest OBP in 1986 with 400 or more ABs? (Dataframe first name, last name, OBP)"
   ]
  },
  {
   "cell_type": "code",
   "execution_count": 65,
   "metadata": {
    "collapsed": true
   },
   "outputs": [],
   "source": [
    "dataset_1986 = dataset[(dataset['yearID']==1986) & (dataset['AB'] >=400)]"
   ]
  },
  {
   "cell_type": "code",
   "execution_count": 66,
   "metadata": {},
   "outputs": [
    {
     "data": {
      "text/html": [
       "<div>\n",
       "<style>\n",
       "    .dataframe thead tr:only-child th {\n",
       "        text-align: right;\n",
       "    }\n",
       "\n",
       "    .dataframe thead th {\n",
       "        text-align: left;\n",
       "    }\n",
       "\n",
       "    .dataframe tbody tr th {\n",
       "        vertical-align: top;\n",
       "    }\n",
       "</style>\n",
       "<table border=\"1\" class=\"dataframe\">\n",
       "  <thead>\n",
       "    <tr style=\"text-align: right;\">\n",
       "      <th></th>\n",
       "      <th>nameFirst</th>\n",
       "      <th>nameLast</th>\n",
       "      <th>OBP</th>\n",
       "    </tr>\n",
       "  </thead>\n",
       "  <tbody>\n",
       "    <tr>\n",
       "      <th>0</th>\n",
       "      <td>Wade</td>\n",
       "      <td>Boggs</td>\n",
       "      <td>0.45283</td>\n",
       "    </tr>\n",
       "  </tbody>\n",
       "</table>\n",
       "</div>"
      ],
      "text/plain": [
       "  nameFirst nameLast      OBP\n",
       "0      Wade    Boggs  0.45283"
      ]
     },
     "execution_count": 66,
     "metadata": {},
     "output_type": "execute_result"
    }
   ],
   "source": [
    "pd.DataFrame(dataset_1986.groupby(['playerID', 'yearID', 'nameFirst','nameLast'])['OBP'].agg('sum')).reset_index().sort_values('OBP', ascending=False).reset_index()[['nameFirst','nameLast','OBP']].head(1)"
   ]
  },
  {
   "cell_type": "markdown",
   "metadata": {},
   "source": [
    "### 22) Who had the highest OBP in 1997 with 400 or more ABs and only in the NL? (Dataframe, first name, last name OBP)"
   ]
  },
  {
   "cell_type": "code",
   "execution_count": 67,
   "metadata": {
    "collapsed": true
   },
   "outputs": [],
   "source": [
    "dataset_1997 = dataset[(dataset['yearID'] == 1997) & (dataset['AB'] >= 400) & (dataset['lgID'] == 'NL')]"
   ]
  },
  {
   "cell_type": "code",
   "execution_count": 68,
   "metadata": {},
   "outputs": [
    {
     "data": {
      "text/html": [
       "<div>\n",
       "<style>\n",
       "    .dataframe thead tr:only-child th {\n",
       "        text-align: right;\n",
       "    }\n",
       "\n",
       "    .dataframe thead th {\n",
       "        text-align: left;\n",
       "    }\n",
       "\n",
       "    .dataframe tbody tr th {\n",
       "        vertical-align: top;\n",
       "    }\n",
       "</style>\n",
       "<table border=\"1\" class=\"dataframe\">\n",
       "  <thead>\n",
       "    <tr style=\"text-align: right;\">\n",
       "      <th></th>\n",
       "      <th>nameFirst</th>\n",
       "      <th>nameLast</th>\n",
       "      <th>OBP</th>\n",
       "    </tr>\n",
       "  </thead>\n",
       "  <tbody>\n",
       "    <tr>\n",
       "      <th>0</th>\n",
       "      <td>Larry</td>\n",
       "      <td>Walker</td>\n",
       "      <td>0.451807</td>\n",
       "    </tr>\n",
       "  </tbody>\n",
       "</table>\n",
       "</div>"
      ],
      "text/plain": [
       "  nameFirst nameLast       OBP\n",
       "0     Larry   Walker  0.451807"
      ]
     },
     "execution_count": 68,
     "metadata": {},
     "output_type": "execute_result"
    }
   ],
   "source": [
    "pd.DataFrame(dataset_1997.groupby(['playerID', 'yearID', 'nameFirst', 'nameLast'])['OBP'].agg('sum')).reset_index().sort_values('OBP', ascending=False).reset_index()[['nameFirst','nameLast','OBP']].head(1)"
   ]
  },
  {
   "cell_type": "markdown",
   "metadata": {},
   "source": [
    "### 23) Who had more than the league average HRs (for players with 500 or more ABs) in 2012 (filter out all players with less 500 ABs)? (Dataframe first name, last name, HR descending)"
   ]
  },
  {
   "cell_type": "code",
   "execution_count": 69,
   "metadata": {
    "collapsed": true
   },
   "outputs": [],
   "source": [
    "dataset_2012 = dataset[(dataset['yearID'] == 2012) & (dataset['AB'] >= 500)]"
   ]
  },
  {
   "cell_type": "code",
   "execution_count": 70,
   "metadata": {
    "collapsed": true
   },
   "outputs": [],
   "source": [
    "result = pd.DataFrame(dataset_2012.groupby(['playerID','yearID'])['HR'].agg('sum')).reset_index()"
   ]
  },
  {
   "cell_type": "code",
   "execution_count": 71,
   "metadata": {
    "collapsed": true
   },
   "outputs": [],
   "source": [
    "answer = result[result['HR'] >= result['HR'].mean()]"
   ]
  },
  {
   "cell_type": "code",
   "execution_count": 72,
   "metadata": {},
   "outputs": [
    {
     "data": {
      "text/html": [
       "<div>\n",
       "<style>\n",
       "    .dataframe thead tr:only-child th {\n",
       "        text-align: right;\n",
       "    }\n",
       "\n",
       "    .dataframe thead th {\n",
       "        text-align: left;\n",
       "    }\n",
       "\n",
       "    .dataframe tbody tr th {\n",
       "        vertical-align: top;\n",
       "    }\n",
       "</style>\n",
       "<table border=\"1\" class=\"dataframe\">\n",
       "  <thead>\n",
       "    <tr style=\"text-align: right;\">\n",
       "      <th></th>\n",
       "      <th>nameFirst</th>\n",
       "      <th>nameLast</th>\n",
       "      <th>HR_x</th>\n",
       "    </tr>\n",
       "  </thead>\n",
       "  <tbody>\n",
       "    <tr>\n",
       "      <th>0</th>\n",
       "      <td>Miguel</td>\n",
       "      <td>Cabrera</td>\n",
       "      <td>44</td>\n",
       "    </tr>\n",
       "    <tr>\n",
       "      <th>1</th>\n",
       "      <td>Josh</td>\n",
       "      <td>Hamilton</td>\n",
       "      <td>43</td>\n",
       "    </tr>\n",
       "    <tr>\n",
       "      <th>2</th>\n",
       "      <td>Curtis</td>\n",
       "      <td>Granderson</td>\n",
       "      <td>43</td>\n",
       "    </tr>\n",
       "    <tr>\n",
       "      <th>3</th>\n",
       "      <td>Edwin</td>\n",
       "      <td>Encarnacion</td>\n",
       "      <td>42</td>\n",
       "    </tr>\n",
       "    <tr>\n",
       "      <th>4</th>\n",
       "      <td>Ryan</td>\n",
       "      <td>Braun</td>\n",
       "      <td>41</td>\n",
       "    </tr>\n",
       "    <tr>\n",
       "      <th>5</th>\n",
       "      <td>Adam</td>\n",
       "      <td>Dunn</td>\n",
       "      <td>41</td>\n",
       "    </tr>\n",
       "    <tr>\n",
       "      <th>6</th>\n",
       "      <td>Adrian</td>\n",
       "      <td>Beltre</td>\n",
       "      <td>36</td>\n",
       "    </tr>\n",
       "    <tr>\n",
       "      <th>7</th>\n",
       "      <td>Josh</td>\n",
       "      <td>Willingham</td>\n",
       "      <td>35</td>\n",
       "    </tr>\n",
       "    <tr>\n",
       "      <th>8</th>\n",
       "      <td>Jay</td>\n",
       "      <td>Bruce</td>\n",
       "      <td>34</td>\n",
       "    </tr>\n",
       "    <tr>\n",
       "      <th>9</th>\n",
       "      <td>Adam</td>\n",
       "      <td>LaRoche</td>\n",
       "      <td>33</td>\n",
       "    </tr>\n",
       "    <tr>\n",
       "      <th>10</th>\n",
       "      <td>Robinson</td>\n",
       "      <td>Cano</td>\n",
       "      <td>33</td>\n",
       "    </tr>\n",
       "    <tr>\n",
       "      <th>11</th>\n",
       "      <td>Chris</td>\n",
       "      <td>Davis</td>\n",
       "      <td>33</td>\n",
       "    </tr>\n",
       "    <tr>\n",
       "      <th>12</th>\n",
       "      <td>Adam</td>\n",
       "      <td>Jones</td>\n",
       "      <td>32</td>\n",
       "    </tr>\n",
       "    <tr>\n",
       "      <th>13</th>\n",
       "      <td>Mark</td>\n",
       "      <td>Trumbo</td>\n",
       "      <td>32</td>\n",
       "    </tr>\n",
       "    <tr>\n",
       "      <th>14</th>\n",
       "      <td>Ike</td>\n",
       "      <td>Davis</td>\n",
       "      <td>32</td>\n",
       "    </tr>\n",
       "    <tr>\n",
       "      <th>15</th>\n",
       "      <td>Josh</td>\n",
       "      <td>Reddick</td>\n",
       "      <td>32</td>\n",
       "    </tr>\n",
       "    <tr>\n",
       "      <th>16</th>\n",
       "      <td>Carlos</td>\n",
       "      <td>Beltran</td>\n",
       "      <td>32</td>\n",
       "    </tr>\n",
       "    <tr>\n",
       "      <th>17</th>\n",
       "      <td>Alfonso</td>\n",
       "      <td>Soriano</td>\n",
       "      <td>32</td>\n",
       "    </tr>\n",
       "    <tr>\n",
       "      <th>18</th>\n",
       "      <td>Chase</td>\n",
       "      <td>Headley</td>\n",
       "      <td>31</td>\n",
       "    </tr>\n",
       "    <tr>\n",
       "      <th>19</th>\n",
       "      <td>Andrew</td>\n",
       "      <td>McCutchen</td>\n",
       "      <td>31</td>\n",
       "    </tr>\n",
       "    <tr>\n",
       "      <th>20</th>\n",
       "      <td>Pedro</td>\n",
       "      <td>Alvarez</td>\n",
       "      <td>30</td>\n",
       "    </tr>\n",
       "    <tr>\n",
       "      <th>21</th>\n",
       "      <td>Albert</td>\n",
       "      <td>Pujols</td>\n",
       "      <td>30</td>\n",
       "    </tr>\n",
       "    <tr>\n",
       "      <th>22</th>\n",
       "      <td>Prince</td>\n",
       "      <td>Fielder</td>\n",
       "      <td>30</td>\n",
       "    </tr>\n",
       "    <tr>\n",
       "      <th>23</th>\n",
       "      <td>Corey</td>\n",
       "      <td>Hart</td>\n",
       "      <td>30</td>\n",
       "    </tr>\n",
       "    <tr>\n",
       "      <th>24</th>\n",
       "      <td>Mike</td>\n",
       "      <td>Trout</td>\n",
       "      <td>30</td>\n",
       "    </tr>\n",
       "    <tr>\n",
       "      <th>25</th>\n",
       "      <td>Jason</td>\n",
       "      <td>Kubel</td>\n",
       "      <td>30</td>\n",
       "    </tr>\n",
       "    <tr>\n",
       "      <th>26</th>\n",
       "      <td>Billy</td>\n",
       "      <td>Butler</td>\n",
       "      <td>29</td>\n",
       "    </tr>\n",
       "    <tr>\n",
       "      <th>27</th>\n",
       "      <td>Melvin</td>\n",
       "      <td>Upton</td>\n",
       "      <td>28</td>\n",
       "    </tr>\n",
       "    <tr>\n",
       "      <th>28</th>\n",
       "      <td>Aramis</td>\n",
       "      <td>Ramirez</td>\n",
       "      <td>27</td>\n",
       "    </tr>\n",
       "    <tr>\n",
       "      <th>29</th>\n",
       "      <td>Matt</td>\n",
       "      <td>Holliday</td>\n",
       "      <td>27</td>\n",
       "    </tr>\n",
       "    <tr>\n",
       "      <th>30</th>\n",
       "      <td>Jason</td>\n",
       "      <td>Heyward</td>\n",
       "      <td>27</td>\n",
       "    </tr>\n",
       "    <tr>\n",
       "      <th>31</th>\n",
       "      <td>Paul</td>\n",
       "      <td>Konerko</td>\n",
       "      <td>26</td>\n",
       "    </tr>\n",
       "    <tr>\n",
       "      <th>32</th>\n",
       "      <td>Aaron</td>\n",
       "      <td>Hill</td>\n",
       "      <td>26</td>\n",
       "    </tr>\n",
       "    <tr>\n",
       "      <th>33</th>\n",
       "      <td>Alex</td>\n",
       "      <td>Rios</td>\n",
       "      <td>25</td>\n",
       "    </tr>\n",
       "    <tr>\n",
       "      <th>34</th>\n",
       "      <td>Dayan</td>\n",
       "      <td>Viciedo</td>\n",
       "      <td>25</td>\n",
       "    </tr>\n",
       "    <tr>\n",
       "      <th>35</th>\n",
       "      <td>Ian</td>\n",
       "      <td>Desmond</td>\n",
       "      <td>25</td>\n",
       "    </tr>\n",
       "    <tr>\n",
       "      <th>36</th>\n",
       "      <td>Ryan</td>\n",
       "      <td>Zimmerman</td>\n",
       "      <td>25</td>\n",
       "    </tr>\n",
       "    <tr>\n",
       "      <th>37</th>\n",
       "      <td>Buster</td>\n",
       "      <td>Posey</td>\n",
       "      <td>24</td>\n",
       "    </tr>\n",
       "    <tr>\n",
       "      <th>38</th>\n",
       "      <td>Nelson</td>\n",
       "      <td>Cruz</td>\n",
       "      <td>24</td>\n",
       "    </tr>\n",
       "    <tr>\n",
       "      <th>39</th>\n",
       "      <td>Nick</td>\n",
       "      <td>Swisher</td>\n",
       "      <td>24</td>\n",
       "    </tr>\n",
       "    <tr>\n",
       "      <th>40</th>\n",
       "      <td>Jimmy</td>\n",
       "      <td>Rollins</td>\n",
       "      <td>23</td>\n",
       "    </tr>\n",
       "    <tr>\n",
       "      <th>41</th>\n",
       "      <td>Freddie</td>\n",
       "      <td>Freeman</td>\n",
       "      <td>23</td>\n",
       "    </tr>\n",
       "    <tr>\n",
       "      <th>42</th>\n",
       "      <td>Colby</td>\n",
       "      <td>Rasmus</td>\n",
       "      <td>23</td>\n",
       "    </tr>\n",
       "    <tr>\n",
       "      <th>43</th>\n",
       "      <td>Matt</td>\n",
       "      <td>Wieters</td>\n",
       "      <td>23</td>\n",
       "    </tr>\n",
       "    <tr>\n",
       "      <th>44</th>\n",
       "      <td>Bryce</td>\n",
       "      <td>Harper</td>\n",
       "      <td>22</td>\n",
       "    </tr>\n",
       "    <tr>\n",
       "      <th>45</th>\n",
       "      <td>J. J.</td>\n",
       "      <td>Hardy</td>\n",
       "      <td>22</td>\n",
       "    </tr>\n",
       "    <tr>\n",
       "      <th>46</th>\n",
       "      <td>Yadier</td>\n",
       "      <td>Molina</td>\n",
       "      <td>22</td>\n",
       "    </tr>\n",
       "    <tr>\n",
       "      <th>47</th>\n",
       "      <td>Carlos</td>\n",
       "      <td>Gonzalez</td>\n",
       "      <td>22</td>\n",
       "    </tr>\n",
       "    <tr>\n",
       "      <th>48</th>\n",
       "      <td>Rickie</td>\n",
       "      <td>Weeks</td>\n",
       "      <td>21</td>\n",
       "    </tr>\n",
       "    <tr>\n",
       "      <th>49</th>\n",
       "      <td>David</td>\n",
       "      <td>Wright</td>\n",
       "      <td>21</td>\n",
       "    </tr>\n",
       "  </tbody>\n",
       "</table>\n",
       "</div>"
      ],
      "text/plain": [
       "   nameFirst     nameLast  HR_x\n",
       "0     Miguel      Cabrera    44\n",
       "1       Josh     Hamilton    43\n",
       "2     Curtis   Granderson    43\n",
       "3      Edwin  Encarnacion    42\n",
       "4       Ryan        Braun    41\n",
       "5       Adam         Dunn    41\n",
       "6     Adrian       Beltre    36\n",
       "7       Josh   Willingham    35\n",
       "8        Jay        Bruce    34\n",
       "9       Adam      LaRoche    33\n",
       "10  Robinson         Cano    33\n",
       "11     Chris        Davis    33\n",
       "12      Adam        Jones    32\n",
       "13      Mark       Trumbo    32\n",
       "14       Ike        Davis    32\n",
       "15      Josh      Reddick    32\n",
       "16    Carlos      Beltran    32\n",
       "17   Alfonso      Soriano    32\n",
       "18     Chase      Headley    31\n",
       "19    Andrew    McCutchen    31\n",
       "20     Pedro      Alvarez    30\n",
       "21    Albert       Pujols    30\n",
       "22    Prince      Fielder    30\n",
       "23     Corey         Hart    30\n",
       "24      Mike        Trout    30\n",
       "25     Jason        Kubel    30\n",
       "26     Billy       Butler    29\n",
       "27    Melvin        Upton    28\n",
       "28    Aramis      Ramirez    27\n",
       "29      Matt     Holliday    27\n",
       "30     Jason      Heyward    27\n",
       "31      Paul      Konerko    26\n",
       "32     Aaron         Hill    26\n",
       "33      Alex         Rios    25\n",
       "34     Dayan      Viciedo    25\n",
       "35       Ian      Desmond    25\n",
       "36      Ryan    Zimmerman    25\n",
       "37    Buster        Posey    24\n",
       "38    Nelson         Cruz    24\n",
       "39      Nick      Swisher    24\n",
       "40     Jimmy      Rollins    23\n",
       "41   Freddie      Freeman    23\n",
       "42     Colby       Rasmus    23\n",
       "43      Matt      Wieters    23\n",
       "44     Bryce       Harper    22\n",
       "45     J. J.        Hardy    22\n",
       "46    Yadier       Molina    22\n",
       "47    Carlos     Gonzalez    22\n",
       "48    Rickie        Weeks    21\n",
       "49     David       Wright    21"
      ]
     },
     "execution_count": 72,
     "metadata": {},
     "output_type": "execute_result"
    }
   ],
   "source": [
    "pd.merge(answer, dataset_2012, how='inner', on='playerID')[['nameFirst', 'nameLast', 'HR_x']].sort_values('HR_x', ascending=False).reset_index()[['nameFirst', 'nameLast', 'HR_x']]"
   ]
  },
  {
   "cell_type": "markdown",
   "metadata": {},
   "source": [
    "### 24) Who is the youngest player to hit 50 or more HRs in a single season? (Dataframe, first name, last name, HRs, season)"
   ]
  },
  {
   "cell_type": "code",
   "execution_count": 73,
   "metadata": {
    "collapsed": true
   },
   "outputs": [],
   "source": [
    "dataset_age = dataset[dataset['birthYear'] != 0]"
   ]
  },
  {
   "cell_type": "code",
   "execution_count": 74,
   "metadata": {},
   "outputs": [
    {
     "name": "stderr",
     "output_type": "stream",
     "text": [
      "/Users/Weiyang/anaconda3/lib/python3.6/site-packages/ipykernel_launcher.py:1: SettingWithCopyWarning: \n",
      "A value is trying to be set on a copy of a slice from a DataFrame.\n",
      "Try using .loc[row_indexer,col_indexer] = value instead\n",
      "\n",
      "See the caveats in the documentation: http://pandas.pydata.org/pandas-docs/stable/indexing.html#indexing-view-versus-copy\n",
      "  \"\"\"Entry point for launching an IPython kernel.\n"
     ]
    }
   ],
   "source": [
    "dataset_age['Age'] = dataset['yearID'] - dataset['birthYear']"
   ]
  },
  {
   "cell_type": "code",
   "execution_count": 75,
   "metadata": {
    "collapsed": true
   },
   "outputs": [],
   "source": [
    "result = pd.DataFrame(dataset_age.groupby(['playerID', 'yearID', 'Age'])['HR'].agg('sum')).reset_index()"
   ]
  },
  {
   "cell_type": "code",
   "execution_count": 76,
   "metadata": {
    "collapsed": true
   },
   "outputs": [],
   "source": [
    "answer = result[result['HR'] >= 50]"
   ]
  },
  {
   "cell_type": "code",
   "execution_count": 77,
   "metadata": {},
   "outputs": [
    {
     "data": {
      "text/html": [
       "<div>\n",
       "<style>\n",
       "    .dataframe thead tr:only-child th {\n",
       "        text-align: right;\n",
       "    }\n",
       "\n",
       "    .dataframe thead th {\n",
       "        text-align: left;\n",
       "    }\n",
       "\n",
       "    .dataframe tbody tr th {\n",
       "        vertical-align: top;\n",
       "    }\n",
       "</style>\n",
       "<table border=\"1\" class=\"dataframe\">\n",
       "  <thead>\n",
       "    <tr style=\"text-align: right;\">\n",
       "      <th></th>\n",
       "      <th>nameFirst</th>\n",
       "      <th>nameLast</th>\n",
       "      <th>HR_x</th>\n",
       "      <th>yearID</th>\n",
       "    </tr>\n",
       "  </thead>\n",
       "  <tbody>\n",
       "    <tr>\n",
       "      <th>0</th>\n",
       "      <td>Prince</td>\n",
       "      <td>Fielder</td>\n",
       "      <td>50</td>\n",
       "      <td>2007</td>\n",
       "    </tr>\n",
       "  </tbody>\n",
       "</table>\n",
       "</div>"
      ],
      "text/plain": [
       "  nameFirst nameLast  HR_x  yearID\n",
       "0    Prince  Fielder    50    2007"
      ]
     },
     "execution_count": 77,
     "metadata": {},
     "output_type": "execute_result"
    }
   ],
   "source": [
    "pd.merge(answer.sort_values('Age', ascending=True).head(1), dataset_age, how='inner', on=['playerID', 'yearID'])[['nameFirst', 'nameLast', 'HR_x', 'yearID']]"
   ]
  },
  {
   "cell_type": "markdown",
   "metadata": {},
   "source": [
    "### 25) Who are the five youngest players to hit 300 or more HRs for their career? (Dataframe, first name, last name, season they eclipsed more than 300 HRs)"
   ]
  },
  {
   "cell_type": "code",
   "execution_count": 78,
   "metadata": {
    "collapsed": true
   },
   "outputs": [],
   "source": [
    "result = pd.DataFrame(dataset_age.groupby(['playerID', 'nameFirst', 'nameLast'])['HR'].agg('sum')).reset_index().sort_values('HR', ascending=False).reset_index()[['playerID', 'nameFirst','nameLast','HR']]"
   ]
  },
  {
   "cell_type": "code",
   "execution_count": 79,
   "metadata": {
    "collapsed": true
   },
   "outputs": [],
   "source": [
    "result_300 = result[result['HR'] >= 300]"
   ]
  },
  {
   "cell_type": "code",
   "execution_count": 80,
   "metadata": {
    "collapsed": true
   },
   "outputs": [],
   "source": [
    "sub_dataset = pd.merge(result_300, dataset_age, how='inner', on='playerID')"
   ]
  },
  {
   "cell_type": "code",
   "execution_count": 81,
   "metadata": {
    "collapsed": true
   },
   "outputs": [],
   "source": [
    "final_result = pd.concat([sub_dataset, pd.DataFrame(sub_dataset.groupby(['playerID'])['HR_y'].cumsum()).rename(columns={'HR_y': 'Cum_HR'})], axis = 1)"
   ]
  },
  {
   "cell_type": "code",
   "execution_count": 82,
   "metadata": {},
   "outputs": [
    {
     "data": {
      "text/html": [
       "<div>\n",
       "<style>\n",
       "    .dataframe thead tr:only-child th {\n",
       "        text-align: right;\n",
       "    }\n",
       "\n",
       "    .dataframe thead th {\n",
       "        text-align: left;\n",
       "    }\n",
       "\n",
       "    .dataframe tbody tr th {\n",
       "        vertical-align: top;\n",
       "    }\n",
       "</style>\n",
       "<table border=\"1\" class=\"dataframe\">\n",
       "  <thead>\n",
       "    <tr style=\"text-align: right;\">\n",
       "      <th></th>\n",
       "      <th>nameFirst_x</th>\n",
       "      <th>nameLast_x</th>\n",
       "      <th>yearID</th>\n",
       "      <th>Age</th>\n",
       "      <th>Cum_HR</th>\n",
       "    </tr>\n",
       "  </thead>\n",
       "  <tbody>\n",
       "    <tr>\n",
       "      <th>0</th>\n",
       "      <td>Andruw</td>\n",
       "      <td>Jones</td>\n",
       "      <td>2005</td>\n",
       "      <td>28</td>\n",
       "      <td>301</td>\n",
       "    </tr>\n",
       "    <tr>\n",
       "      <th>1</th>\n",
       "      <td>Jimmie</td>\n",
       "      <td>Foxx</td>\n",
       "      <td>1935</td>\n",
       "      <td>28</td>\n",
       "      <td>302</td>\n",
       "    </tr>\n",
       "    <tr>\n",
       "      <th>2</th>\n",
       "      <td>Alex</td>\n",
       "      <td>Rodriguez</td>\n",
       "      <td>2003</td>\n",
       "      <td>28</td>\n",
       "      <td>345</td>\n",
       "    </tr>\n",
       "    <tr>\n",
       "      <th>3</th>\n",
       "      <td>Mel</td>\n",
       "      <td>Ott</td>\n",
       "      <td>1937</td>\n",
       "      <td>28</td>\n",
       "      <td>306</td>\n",
       "    </tr>\n",
       "    <tr>\n",
       "      <th>4</th>\n",
       "      <td>Albert</td>\n",
       "      <td>Pujols</td>\n",
       "      <td>2008</td>\n",
       "      <td>28</td>\n",
       "      <td>319</td>\n",
       "    </tr>\n",
       "  </tbody>\n",
       "</table>\n",
       "</div>"
      ],
      "text/plain": [
       "  nameFirst_x nameLast_x  yearID  Age  Cum_HR\n",
       "0      Andruw      Jones    2005   28     301\n",
       "1      Jimmie       Foxx    1935   28     302\n",
       "2        Alex  Rodriguez    2003   28     345\n",
       "3         Mel        Ott    1937   28     306\n",
       "4      Albert     Pujols    2008   28     319"
      ]
     },
     "execution_count": 82,
     "metadata": {},
     "output_type": "execute_result"
    }
   ],
   "source": [
    "final_result[final_result['Cum_HR'] >= 300].drop_duplicates(subset=['playerID'], keep='first').sort_values('Age').reset_index()[['nameFirst_x', 'nameLast_x','yearID','Age','Cum_HR']].head(5)"
   ]
  },
  {
   "cell_type": "markdown",
   "metadata": {},
   "source": [
    "### Bonus Question 1) Graph total HRs per season using bar graph"
   ]
  },
  {
   "cell_type": "code",
   "execution_count": 83,
   "metadata": {
    "collapsed": true
   },
   "outputs": [],
   "source": [
    "import matplotlib.pyplot as plt\n",
    "import numpy as np"
   ]
  },
  {
   "cell_type": "code",
   "execution_count": 84,
   "metadata": {
    "collapsed": true
   },
   "outputs": [],
   "source": [
    "plot_data = pd.DataFrame(dataset.groupby(['yearID'])['HR'].agg('sum')).reset_index()"
   ]
  },
  {
   "cell_type": "code",
   "execution_count": 85,
   "metadata": {},
   "outputs": [
    {
     "data": {
      "image/png": "[encoded data removed]",
      "text/plain": [
       "<matplotlib.figure.Figure at 0x1122d3a20>"
      ]
     },
     "metadata": {},
     "output_type": "display_data"
    }
   ],
   "source": [
    "plt.figure(figsize=(20,14))\n",
    "\n",
    "plt.bar(plot_data['yearID'], plot_data['HR'], color=\"blue\")\n",
    "\n",
    "### Drawing trendline\n",
    "z = np.polyfit(plot_data['yearID'], plot_data['HR'], 1)\n",
    "p = np.poly1d(z)\n",
    "plt.plot(plot_data['yearID'],p(plot_data['yearID']),\"r--\")\n",
    "\n",
    "plt.xlabel('Season')\n",
    "plt.ylabel('Total Number of HR in Season')\n",
    "\n",
    "plt.show()"
   ]
  },
  {
   "cell_type": "markdown",
   "metadata": {},
   "source": [
    "### Bonus Question 2) Using a line graph please graph the average HRs per AB (think about this) per season"
   ]
  },
  {
   "cell_type": "code",
   "execution_count": 86,
   "metadata": {
    "collapsed": true
   },
   "outputs": [],
   "source": [
    "dataset['HR_per_AB'] = dataset['HR']/dataset['AB']"
   ]
  },
  {
   "cell_type": "code",
   "execution_count": 87,
   "metadata": {
    "collapsed": true
   },
   "outputs": [],
   "source": [
    "result = pd.DataFrame(dataset.groupby(['yearID'])['HR_per_AB'].mean()).reset_index()"
   ]
  },
  {
   "cell_type": "code",
   "execution_count": 88,
   "metadata": {},
   "outputs": [
    {
     "data": {
      "image/png": "[encoded data removed]",
      "text/plain": [
       "<matplotlib.figure.Figure at 0x113492080>"
      ]
     },
     "metadata": {},
     "output_type": "display_data"
    }
   ],
   "source": [
    "plt.figure(figsize=(20,14))\n",
    "\n",
    "plt.plot(result['yearID'], result['HR_per_AB'])\n",
    "\n",
    "### Drawing trendline\n",
    "z = np.polyfit(result['yearID'], result['HR_per_AB'], 1)\n",
    "p = np.poly1d(z)\n",
    "plt.plot(result['yearID'],p(result['yearID']),\"r--\")\n",
    "\n",
    "plt.ylabel('Average HR per AB per season')\n",
    "plt.xlabel('Season')\n",
    "\n",
    "plt.show()"
   ]
  }
 ],
 "metadata": {
  "kernelspec": {
   "display_name": "Python 3",
   "language": "python",
   "name": "python3"
  },
  "language_info": {
   "codemirror_mode": {
    "name": "ipython",
    "version": 3
   },
   "file_extension": ".py",
   "mimetype": "text/x-python",
   "name": "python",
   "nbconvert_exporter": "python",
   "pygments_lexer": "ipython3",
   "version": "3.6.2"
  }
 },
 "nbformat": 4,
 "nbformat_minor": 2
}
